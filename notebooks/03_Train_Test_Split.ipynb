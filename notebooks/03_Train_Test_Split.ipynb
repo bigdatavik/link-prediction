{
 "cells": [
  {
   "cell_type": "markdown",
   "metadata": {},
   "source": [
    "# Train and test datasets\n",
    "\n",
    "Now that we've decided we're going to use a machine learning approach, we need to come up with train and test datasets on which we can build, and then evaluate a model.\n",
    "\n",
    "### Positive examples\n",
    "\n",
    "The tricky thing when working with graph data is that we can't just randomly split the data, as this could lead to data leakage.\n",
    "\n",
    "Data leakage can occur when data outside of your training data is inadvertently used to create your model. This can easily happen when working with graphs because pairs of nodes in our training set may be connected to those in the test set.\n",
    "\n",
    "When we compute link prediction measures over that training set the __measures computed contain information from the test set__ that we’ll later evaluate our model against.\n",
    "\n",
    "Instead we need to split our graph into training and test sub graphs. If our graph has a concept of time our life is easy — we can split the graph at a point in time and the training set will be from before the time, the test set after.\n",
    "\n",
    "This is still not a perfect solution and we’ll need to try and ensure that the general network structure in the training and test sub graphs is similar.\n",
    "\n",
    "Once we’ve done that we’ll have pairs of nodes in our train and test set that have relationships between them. They will be the __positive examples__ in our machine learning model.\n",
    "\n",
    "We are lucky that our citation graph contains a times. We can create train and test graphs by splitting the data on a particular year. Now we need to figure out what year that should be. Let's have a look at the distribution of the first year that co-authors collaborated:"
   ]
  },
  {
   "cell_type": "code",
   "execution_count": 1,
   "metadata": {},
   "outputs": [],
   "source": [
    "from neo4j import GraphDatabase\n",
    "\n",
    "# tag::imports[]\n",
    "import pandas as pd\n",
    "import matplotlib\n",
    "import matplotlib.pyplot as plt\n",
    "\n",
    "plt.style.use('fivethirtyeight')\n",
    "pd.set_option('display.float_format', lambda x: '%.3f' % x)\n",
    "# end::imports[]"
   ]
  },
  {
   "cell_type": "code",
   "execution_count": 3,
   "metadata": {},
   "outputs": [
    {
     "name": "stdout",
     "output_type": "stream",
     "text": [
      "localhost:7687\n"
     ]
    }
   ],
   "source": [
    "#bolt_uri = \"bolt://link-prediction-neo4j\"\n",
    "bolt_uri = \"bolt://localhost:7687\"\n",
    "driver = GraphDatabase.driver(bolt_uri, auth=(\"neo4j\", \"letmein\"))\n",
    "\n",
    "print(driver.address)"
   ]
  },
  {
   "cell_type": "markdown",
   "metadata": {},
   "source": [
    "We can create the co-author graph by running the query below to do this:"
   ]
  },
  {
   "cell_type": "code",
   "execution_count": 8,
   "metadata": {},
   "outputs": [
    {
     "data": {
      "image/png": "[encoded data removed]",
      "text/plain": [
       "<Figure size 1080x576 with 1 Axes>"
      ]
     },
     "metadata": {},
     "output_type": "display_data"
    }
   ],
   "source": [
    "# tag::determine-split[]\n",
    "query = \"\"\"\n",
    "MATCH p=()-[r:CO_AUTHOR]->()\n",
    "WITH r.year AS year, count(*) AS count\n",
    "ORDER BY year\n",
    "RETURN toString(year) AS year, count\n",
    "\"\"\"\n",
    "\n",
    "with driver.session(database=\"neo4j\") as session:\n",
    "    result = session.run(query)\n",
    "    by_year = pd.DataFrame([dict(record) for record in result])\n",
    "\n",
    "ax = by_year.plot(kind='bar', x='year', y='count', legend=None, figsize=(15,8))\n",
    "ax.xaxis.set_label_text(\"\")\n",
    "plt.tight_layout()\n",
    "\n",
    "plt.show()\n",
    "# end::determine-split[]"
   ]
  },
  {
   "cell_type": "markdown",
   "metadata": {},
   "source": [
    "It looks like 2006 would act as a good year on which to split the data. We'll take all the co-authorships from 2005 and earlier as our train graph, and everything from 2006 onwards as the test graph.\n",
    "\n",
    "Let's create explicit `CO_AUTHOR_EARLY` and `CO_AUTHOR_LATE` relationships in our graph based on that year. The following code will create these relationships for us:"
   ]
  },
  {
   "cell_type": "code",
   "execution_count": 9,
   "metadata": {},
   "outputs": [
    {
     "data": {
      "text/plain": [
       "{'relationships_created': 81096, 'properties_set': 81096}"
      ]
     },
     "metadata": {},
     "output_type": "display_data"
    },
    {
     "data": {
      "text/plain": [
       "{'relationships_created': 74128, 'properties_set': 74128}"
      ]
     },
     "metadata": {},
     "output_type": "display_data"
    }
   ],
   "source": [
    "# tag::sub-graphs[]\n",
    "query = \"\"\"\n",
    "MATCH (a)-[r:CO_AUTHOR]->(b)\n",
    "where r.year < 2006\n",
    "MERGE (a)-[:CO_AUTHOR_EARLY {year: r.year}]-(b);\n",
    "\"\"\"\n",
    "\n",
    "with driver.session(database=\"neo4j\") as session:\n",
    "    display(session.run(query).consume().counters)\n",
    "\n",
    "query = \"\"\"\n",
    "MATCH (a)-[r:CO_AUTHOR]->(b)\n",
    "where r.year >= 2006\n",
    "MERGE (a)-[:CO_AUTHOR_LATE {year: r.year}]-(b);\n",
    "\"\"\"\n",
    "\n",
    "with driver.session(database=\"neo4j\") as session:\n",
    "    display(session.run(query).consume().counters)\n",
    "# end::sub-graphs[]"
   ]
  },
  {
   "cell_type": "markdown",
   "metadata": {},
   "source": [
    "Let's quickly check how many co-author relationship we have in each of these sub graphs:"
   ]
  },
  {
   "cell_type": "code",
   "execution_count": 10,
   "metadata": {},
   "outputs": [
    {
     "data": {
      "text/html": [
       "<div>\n",
       "<style scoped>\n",
       "    .dataframe tbody tr th:only-of-type {\n",
       "        vertical-align: middle;\n",
       "    }\n",
       "\n",
       "    .dataframe tbody tr th {\n",
       "        vertical-align: top;\n",
       "    }\n",
       "\n",
       "    .dataframe thead th {\n",
       "        text-align: right;\n",
       "    }\n",
       "</style>\n",
       "<table border=\"1\" class=\"dataframe\">\n",
       "  <thead>\n",
       "    <tr style=\"text-align: right;\">\n",
       "      <th></th>\n",
       "      <th>count</th>\n",
       "    </tr>\n",
       "  </thead>\n",
       "  <tbody>\n",
       "    <tr>\n",
       "      <th>0</th>\n",
       "      <td>81096</td>\n",
       "    </tr>\n",
       "  </tbody>\n",
       "</table>\n",
       "</div>"
      ],
      "text/plain": [
       "   count\n",
       "0  81096"
      ]
     },
     "execution_count": 10,
     "metadata": {},
     "output_type": "execute_result"
    }
   ],
   "source": [
    "query = \"\"\"\n",
    "MATCH ()-[:CO_AUTHOR_EARLY]->()\n",
    "RETURN count(*) AS count\n",
    "\"\"\"\n",
    "\n",
    "with driver.session(database=\"neo4j\") as session:\n",
    "    result = session.run(query)\n",
    "    df = pd.DataFrame([dict(record) for record in result])\n",
    "df"
   ]
  },
  {
   "cell_type": "code",
   "execution_count": 11,
   "metadata": {},
   "outputs": [
    {
     "data": {
      "text/html": [
       "<div>\n",
       "<style scoped>\n",
       "    .dataframe tbody tr th:only-of-type {\n",
       "        vertical-align: middle;\n",
       "    }\n",
       "\n",
       "    .dataframe tbody tr th {\n",
       "        vertical-align: top;\n",
       "    }\n",
       "\n",
       "    .dataframe thead th {\n",
       "        text-align: right;\n",
       "    }\n",
       "</style>\n",
       "<table border=\"1\" class=\"dataframe\">\n",
       "  <thead>\n",
       "    <tr style=\"text-align: right;\">\n",
       "      <th></th>\n",
       "      <th>count</th>\n",
       "    </tr>\n",
       "  </thead>\n",
       "  <tbody>\n",
       "    <tr>\n",
       "      <th>0</th>\n",
       "      <td>74128</td>\n",
       "    </tr>\n",
       "  </tbody>\n",
       "</table>\n",
       "</div>"
      ],
      "text/plain": [
       "   count\n",
       "0  74128"
      ]
     },
     "execution_count": 11,
     "metadata": {},
     "output_type": "execute_result"
    }
   ],
   "source": [
    "query = \"\"\"\n",
    "MATCH ()-[:CO_AUTHOR_LATE]->()\n",
    "RETURN count(*) AS count\n",
    "\"\"\"\n",
    "\n",
    "with driver.session(database=\"neo4j\") as session:\n",
    "    result = session.run(query)\n",
    "    df = pd.DataFrame([dict(record) for record in result])\n",
    "df"
   ]
  },
  {
   "cell_type": "markdown",
   "metadata": {},
   "source": [
    "We have a split of 52-48, which is a bit on the high side, but should be ok. Now for the __negative examples__."
   ]
  },
  {
   "cell_type": "markdown",
   "metadata": {},
   "source": [
    "### Negative examples\n",
    "\n",
    "The simplest approach would be to use all pair of nodes that don’t have a relationship. __The problem with this approach is that there are significantly more examples of pairs of nodes that don’t have a relationship than there are pairs of nodes that do__.\n",
    "\n",
    "The maximum number of negative examples is equal to:\n",
    "\n",
    "```\n",
    "# negative examples = (# nodes)² - (# relationships) - (# nodes)\n",
    "```\n",
    "\n",
    "i.e. the number of nodes squared, minus the relationships that the graph has, minus self relationships.\n",
    "\n",
    "If we use all of these negative examples in our training set we will have a massive class imbalance — there are many negative examples and relatively few positive ones.\n",
    "\n",
    "A model trained using data that’s this imbalanced will achieve very high accuracy by __predicting that any pair of nodes don’t have a relationship__ between them, which is not quite what we want!\n",
    "\n",
    "So we need to try and reduce the number of negative examples. An approach described in several link prediction papers is to use pairs of nodes that are a __specific number of hops away from each other__.\n",
    "\n",
    "This will significantly reduce the number of negative examples, although there will still be a lot more negative examples than positive.\n",
    "\n",
    "To solve this problem we either need to down sample the negative examples or up sample the positive examples.\n",
    "\n",
    "We're going to take the down sampling approach in this guide, and the following function will do this for us:"
   ]
  },
  {
   "cell_type": "code",
   "execution_count": 18,
   "metadata": {},
   "outputs": [],
   "source": [
    "# tag::positive-negative-examples[]\n",
    "with driver.session(database=\"neo4j\") as session:\n",
    "    result = session.run(\"\"\"\n",
    "             MATCH (author:Author)-[:CO_AUTHOR_EARLY]->(other:Author)\n",
    "             RETURN id(author) AS node1, id(other) AS node2, 1 AS label\"\"\")\n",
    "    train_existing_links = pd.DataFrame([dict(record) for record in result])\n",
    "\n",
    "    result = session.run(\"\"\"\n",
    "             MATCH (author:Author)\n",
    "             WHERE (author)-[:CO_AUTHOR_EARLY]-()\n",
    "             MATCH (author)-[:CO_AUTHOR_EARLY*2..3]-(other)\n",
    "             WHERE not((author)-[:CO_AUTHOR_EARLY]-(other))\n",
    "             RETURN id(author) AS node1, id(other) AS node2, 0 AS label\"\"\")\n",
    "    train_missing_links = pd.DataFrame([dict(record) for record in result])\n",
    "    train_missing_links.count()\n",
    "    train_missing_links = train_missing_links.drop_duplicates()\n",
    "# end::positive-negative-examples[]"
   ]
  },
  {
   "cell_type": "code",
   "execution_count": 19,
   "metadata": {},
   "outputs": [
    {
     "name": "stdout",
     "output_type": "stream",
     "text": [
      "Negative examples: 973019\n",
      "Positive examples: 81096\n",
      "Random downsampling:\n",
      "0    81096\n",
      "1    81096\n",
      "Name: label, dtype: int64\n"
     ]
    }
   ],
   "source": [
    "# tag::count-positive-negative[]\n",
    "training_df = train_missing_links.append(train_existing_links, ignore_index=True)\n",
    "training_df['label'] = training_df['label'].astype('category')\n",
    "\n",
    "count_class_0, count_class_1 = training_df.label.value_counts()\n",
    "print(f\"Negative examples: {count_class_0}\")\n",
    "print(f\"Positive examples: {count_class_1}\")\n",
    "# end::count-positive-negative[]\n",
    "\n",
    "# tag::down-sample[]\n",
    "df_class_0 = training_df[training_df['label'] == 0]\n",
    "df_class_1 = training_df[training_df['label'] == 1]\n",
    "\n",
    "df_class_0_under = df_class_0.sample(count_class_1)\n",
    "df_train_under = pd.concat([df_class_0_under, df_class_1], axis=0)\n",
    "\n",
    "print('Random downsampling:')\n",
    "print(df_train_under.label.value_counts())\n",
    "# end::down-sample[]"
   ]
  },
  {
   "cell_type": "markdown",
   "metadata": {},
   "source": [
    "Let's now do the same thing for our test set:"
   ]
  },
  {
   "cell_type": "code",
   "execution_count": 20,
   "metadata": {},
   "outputs": [],
   "source": [
    "# tag::test-positive-negative-examples[]\n",
    "with driver.session(database=\"neo4j\") as session:\n",
    "    result = session.run(\"\"\"\n",
    "             MATCH (author:Author)-[:CO_AUTHOR_LATE]->(other:Author)\n",
    "             RETURN id(author) AS node1, id(other) AS node2, 1 AS label\"\"\")\n",
    "    test_existing_links = pd.DataFrame([dict(record) for record in result])\n",
    "\n",
    "    result = session.run(\"\"\"\n",
    "             MATCH (author:Author)\n",
    "             WHERE (author)-[:CO_AUTHOR_LATE]-()\n",
    "             MATCH (author)-[:CO_AUTHOR_LATE*2..3]-(other)\n",
    "             WHERE not((author)-[:CO_AUTHOR_LATE]-(other))\n",
    "             RETURN id(author) AS node1, id(other) AS node2, 0 AS label\"\"\")\n",
    "    test_missing_links = pd.DataFrame([dict(record) for record in result])    \n",
    "    test_missing_links = test_missing_links.drop_duplicates()\n",
    "# end::test-positive-negative-examples[]"
   ]
  },
  {
   "cell_type": "code",
   "execution_count": 29,
   "metadata": {},
   "outputs": [
    {
     "name": "stdout",
     "output_type": "stream",
     "text": [
      "Negative examples: 1265118\n",
      "Positive examples: 74128\n",
      "Random downsampling:\n",
      "0    74128\n",
      "1    74128\n",
      "Name: label, dtype: int64\n"
     ]
    }
   ],
   "source": [
    "# Compute positive and negative examples\n",
    "\n",
    "# tag::count-test-positive-negative[]\n",
    "test_df = test_missing_links.append(test_existing_links, ignore_index=True)\n",
    "test_df['label'] = test_df['label'].astype('category')\n",
    "\n",
    "count_class_0, count_class_1 = test_df.label.value_counts()\n",
    "print(f\"Negative examples: {count_class_0}\")\n",
    "print(f\"Positive examples: {count_class_1}\")\n",
    "# end::count-test-positive-negative[]\n",
    "\n",
    "# Down sample the negative examples\n",
    "\n",
    "# tag::down-sample-test[]\n",
    "df_class_0 = test_df[test_df['label'] == 0]\n",
    "df_class_1 = test_df[test_df['label'] == 1]\n",
    "\n",
    "df_class_0_under = df_class_0.sample(count_class_1)\n",
    "df_test_under = pd.concat([df_class_0_under, df_class_1], axis=0)\n",
    "\n",
    "print('Random downsampling:')\n",
    "print(df_test_under.label.value_counts())\n",
    "# end::down-sample-test[]"
   ]
  },
  {
   "cell_type": "markdown",
   "metadata": {},
   "source": [
    "Before we move on, let's have a look at the contents of our train and test DataFrames:"
   ]
  },
  {
   "cell_type": "code",
   "execution_count": 27,
   "metadata": {},
   "outputs": [
    {
     "data": {
      "text/html": [
       "<div>\n",
       "<style scoped>\n",
       "    .dataframe tbody tr th:only-of-type {\n",
       "        vertical-align: middle;\n",
       "    }\n",
       "\n",
       "    .dataframe tbody tr th {\n",
       "        vertical-align: top;\n",
       "    }\n",
       "\n",
       "    .dataframe thead th {\n",
       "        text-align: right;\n",
       "    }\n",
       "</style>\n",
       "<table border=\"1\" class=\"dataframe\">\n",
       "  <thead>\n",
       "    <tr style=\"text-align: right;\">\n",
       "      <th></th>\n",
       "      <th>node1</th>\n",
       "      <th>node2</th>\n",
       "      <th>label</th>\n",
       "    </tr>\n",
       "  </thead>\n",
       "  <tbody>\n",
       "    <tr>\n",
       "      <th>1008082</th>\n",
       "      <td>101053</td>\n",
       "      <td>101054</td>\n",
       "      <td>1</td>\n",
       "    </tr>\n",
       "    <tr>\n",
       "      <th>999032</th>\n",
       "      <td>35945</td>\n",
       "      <td>77989</td>\n",
       "      <td>1</td>\n",
       "    </tr>\n",
       "    <tr>\n",
       "      <th>974181</th>\n",
       "      <td>2657</td>\n",
       "      <td>2658</td>\n",
       "      <td>1</td>\n",
       "    </tr>\n",
       "    <tr>\n",
       "      <th>734937</th>\n",
       "      <td>166632</td>\n",
       "      <td>29136</td>\n",
       "      <td>0</td>\n",
       "    </tr>\n",
       "    <tr>\n",
       "      <th>348443</th>\n",
       "      <td>58706</td>\n",
       "      <td>151194</td>\n",
       "      <td>0</td>\n",
       "    </tr>\n",
       "  </tbody>\n",
       "</table>\n",
       "</div>"
      ],
      "text/plain": [
       "          node1   node2 label\n",
       "1008082  101053  101054     1\n",
       "999032    35945   77989     1\n",
       "974181     2657    2658     1\n",
       "734937   166632   29136     0\n",
       "348443    58706  151194     0"
      ]
     },
     "execution_count": 27,
     "metadata": {},
     "output_type": "execute_result"
    }
   ],
   "source": [
    "# tag::train-preview[]\n",
    "df_train_under.sample(5, random_state=42)\n",
    "# end::train-preview[]"
   ]
  },
  {
   "cell_type": "code",
   "execution_count": 30,
   "metadata": {},
   "outputs": [
    {
     "data": {
      "text/html": [
       "<div>\n",
       "<style scoped>\n",
       "    .dataframe tbody tr th:only-of-type {\n",
       "        vertical-align: middle;\n",
       "    }\n",
       "\n",
       "    .dataframe tbody tr th {\n",
       "        vertical-align: top;\n",
       "    }\n",
       "\n",
       "    .dataframe thead th {\n",
       "        text-align: right;\n",
       "    }\n",
       "</style>\n",
       "<table border=\"1\" class=\"dataframe\">\n",
       "  <thead>\n",
       "    <tr style=\"text-align: right;\">\n",
       "      <th></th>\n",
       "      <th>node1</th>\n",
       "      <th>node2</th>\n",
       "      <th>label</th>\n",
       "    </tr>\n",
       "  </thead>\n",
       "  <tbody>\n",
       "    <tr>\n",
       "      <th>943602</th>\n",
       "      <td>200945</td>\n",
       "      <td>175275</td>\n",
       "      <td>0</td>\n",
       "    </tr>\n",
       "    <tr>\n",
       "      <th>1289329</th>\n",
       "      <td>96553</td>\n",
       "      <td>145288</td>\n",
       "      <td>1</td>\n",
       "    </tr>\n",
       "    <tr>\n",
       "      <th>1338191</th>\n",
       "      <td>107714</td>\n",
       "      <td>263014</td>\n",
       "      <td>1</td>\n",
       "    </tr>\n",
       "    <tr>\n",
       "      <th>1317560</th>\n",
       "      <td>135048</td>\n",
       "      <td>223250</td>\n",
       "      <td>1</td>\n",
       "    </tr>\n",
       "    <tr>\n",
       "      <th>1315553</th>\n",
       "      <td>117068</td>\n",
       "      <td>222134</td>\n",
       "      <td>1</td>\n",
       "    </tr>\n",
       "  </tbody>\n",
       "</table>\n",
       "</div>"
      ],
      "text/plain": [
       "          node1   node2 label\n",
       "943602   200945  175275     0\n",
       "1289329   96553  145288     1\n",
       "1338191  107714  263014     1\n",
       "1317560  135048  223250     1\n",
       "1315553  117068  222134     1"
      ]
     },
     "execution_count": 30,
     "metadata": {},
     "output_type": "execute_result"
    }
   ],
   "source": [
    "# tag::test-preview[]\n",
    "df_test_under.sample(5, random_state=42)\n",
    "# end::test-preview[]"
   ]
  },
  {
   "cell_type": "code",
   "execution_count": 31,
   "metadata": {},
   "outputs": [],
   "source": [
    "# Save our DataFrames to CSV files for use in the next notebook\n",
    "\n",
    "df_train_under.to_csv(\"data/df_train_under.csv\", index=False)\n",
    "df_test_under.to_csv(\"data/df_test_under.csv\", index=False)\n",
    "\n",
    "df_train_under = pd.read_csv(\"data/df_train_under.csv\")\n",
    "df_test_under = pd.read_csv(\"data/df_test_under.csv\")\n",
    "\n",
    "df_train_under.sample(5, random_state=42).to_csv(\"data/df_train_under_basic_sample.csv\", index=False)\n",
    "df_test_under.sample(5, random_state=42).to_csv(\"data/df_test_under_basic_sample.csv\", index=False)"
   ]
  },
  {
   "cell_type": "markdown",
   "metadata": {},
   "source": [
    "## Link Prediction with the Graph Data Science Library"
   ]
  },
  {
   "cell_type": "markdown",
   "metadata": {},
   "source": [
    "### Train and test datasets\n",
    "To avoid data leakage, we need to split our graph into training and test sub graphs. The GDS Library has a Split Relationships algorithm that takes care of this for us.\n",
    "\n",
    "Before we use that algorithm, let’s create an in-memory graph of our co-authors, by running the following query:"
   ]
  },
  {
   "cell_type": "code",
   "execution_count": 34,
   "metadata": {},
   "outputs": [
    {
     "data": {
      "text/plain": [
       "{}"
      ]
     },
     "metadata": {},
     "output_type": "display_data"
    }
   ],
   "source": [
    "# Create in-memory graph Cypher\n",
    "query = \"\"\"\n",
    "CALL gds.graph.create(\n",
    "  'linkpred',\n",
    "  'Author',\n",
    "  {\n",
    "    CO_AUTHOR: {\n",
    "      orientation: 'UNDIRECTED'\n",
    "    }\n",
    "  }\n",
    ");\n",
    "\"\"\"\n",
    "\n",
    "with driver.session(database=\"neo4j\") as session:\n",
    "    display(session.run(query).consume().counters)  "
   ]
  },
  {
   "cell_type": "markdown",
   "metadata": {},
   "source": [
    "And now we will use the Split Relationships algorithm to create both train and test in-memory graphs:"
   ]
  },
  {
   "cell_type": "code",
   "execution_count": 36,
   "metadata": {},
   "outputs": [
    {
     "data": {
      "text/plain": [
       "{}"
      ]
     },
     "metadata": {},
     "output_type": "display_data"
    }
   ],
   "source": [
    "# Create test graph Cypher\n",
    "query = \"\"\"\n",
    "CALL gds.alpha.ml.splitRelationships.mutate('linkpred', {\n",
    "  relationshipTypes: ['CO_AUTHOR'],\n",
    "  remainingRelationshipType: 'CO_AUTHOR_REMAINING',\n",
    "  holdoutRelationshipType: 'CO_AUTHOR_TESTGRAPH',\n",
    "  holdoutFraction: 0.2\n",
    "})\n",
    "YIELD createMillis, computeMillis, mutateMillis, relationshipsWritten;\n",
    "\"\"\"\n",
    "\n",
    "with driver.session(database=\"neo4j\") as session:\n",
    "    display(session.run(query).consume().counters)  "
   ]
  },
  {
   "cell_type": "code",
   "execution_count": 37,
   "metadata": {},
   "outputs": [
    {
     "data": {
      "text/plain": [
       "{}"
      ]
     },
     "metadata": {},
     "output_type": "display_data"
    }
   ],
   "source": [
    "# Create training graph Cypher\n",
    "query = \"\"\"\n",
    "CALL gds.alpha.ml.splitRelationships.mutate('linkpred', {\n",
    "  relationshipTypes: ['CO_AUTHOR_REMAINING'],\n",
    "  remainingRelationshipType: 'CO_AUTHOR_IGNORED_FOR_TRAINING',\n",
    "  holdoutRelationshipType: 'CO_AUTHOR_TRAINGRAPH',\n",
    "  holdoutFraction: 0.2\n",
    "})\n",
    "YIELD createMillis, computeMillis, mutateMillis, relationshipsWritten;\n",
    "\"\"\"\n",
    "\n",
    "with driver.session(database=\"neo4j\") as session:\n",
    "    display(session.run(query).consume().counters) "
   ]
  },
  {
   "cell_type": "markdown",
   "metadata": {},
   "source": [
    "### Feature Engineering\n",
    "Now it’s time to engineer some features which we’ll use to train our model. We are going to train a model that tries to identify missing links in the current graph, which might have happened because of misrecording of the authors who wrote a paper, resulting in missing collaborations. This is also referred to as transductive learning, and means that when we generate features we will generate them using the whole graph."
   ]
  },
  {
   "cell_type": "markdown",
   "metadata": {},
   "source": [
    "#### PageRank\n",
    "\n",
    "The PageRank algorithm computes a score that indicates the transitive influence of an author. The higher the score, the more influential they are.\n",
    "\n",
    "We can compute the PageRank for each author and store the result as a node property in the in-memory graph, by running the following query:\n"
   ]
  },
  {
   "cell_type": "code",
   "execution_count": 39,
   "metadata": {},
   "outputs": [
    {
     "data": {
      "text/plain": [
       "{}"
      ]
     },
     "metadata": {},
     "output_type": "display_data"
    }
   ],
   "source": [
    "query = \"\"\"\n",
    "CALL gds.pageRank.mutate('linkpred',{\n",
    "  maxIterations: 20,\n",
    "  dampingFactor: 0.05,\n",
    "  relationshipTypes: [\"CO_AUTHOR\"],\n",
    "  mutateProperty: 'pagerank'\n",
    "})\n",
    "YIELD nodePropertiesWritten, mutateMillis, createMillis, computeMillis;\n",
    "\"\"\"\n",
    "\n",
    "with driver.session(database=\"neo4j\") as session:\n",
    "    display(session.run(query).consume().counters) "
   ]
  },
  {
   "cell_type": "markdown",
   "metadata": {},
   "source": [
    "### Triangle Count\n",
    "\n",
    "The Triangle Count algorithm computes the number of triangles that a node forms. Three nodes A,B,C form a triangle if A is a co-author of B, B is a co-author of C, and C is a co-author of A.\n",
    "\n",
    "We can compute the number of triangles for each author and store the results as a node property in the in-memory graph, by running the following query:\n"
   ]
  },
  {
   "cell_type": "code",
   "execution_count": 41,
   "metadata": {},
   "outputs": [
    {
     "data": {
      "text/plain": [
       "{}"
      ]
     },
     "metadata": {},
     "output_type": "display_data"
    }
   ],
   "source": [
    "query = \"\"\"\n",
    "CALL gds.triangleCount.mutate('linkpred',{\n",
    "  relationshipTypes: [\"CO_AUTHOR\"],\n",
    "  mutateProperty: 'triangles'\n",
    "})\n",
    "YIELD nodePropertiesWritten, mutateMillis, nodeCount, createMillis, computeMillis;\n",
    "\"\"\"\n",
    "\n",
    "with driver.session(database=\"neo4j\") as session:\n",
    "    display(session.run(query).consume().counters) "
   ]
  },
  {
   "cell_type": "markdown",
   "metadata": {},
   "source": [
    "### Fast Random Projection\n",
    "\n",
    "The Fast Random Projection (FastRP) algorithm computes embeddings based on a node’s neighborhood. This means that two nodes that have similar neighborhoods should be assigned similar embedding vectors.\n",
    "\n",
    "We can compute the FastRP embedding for each author and store the results as a node property in the in-memory graph, by running the following query:\n"
   ]
  },
  {
   "cell_type": "code",
   "execution_count": 42,
   "metadata": {},
   "outputs": [
    {
     "data": {
      "text/plain": [
       "{}"
      ]
     },
     "metadata": {},
     "output_type": "display_data"
    }
   ],
   "source": [
    "query = \"\"\"\n",
    "CALL gds.fastRP.mutate('linkpred', {\n",
    "    embeddingDimension: 250,\n",
    "    relationshipTypes: [\"CO_AUTHOR_REMAINING\"],\n",
    "    iterationWeights: [0, 0, 1.0, 1.0],\n",
    "    normalizationStrength:0.05,\n",
    "    mutateProperty: 'fastRP_Embedding'\n",
    "})\n",
    "YIELD nodePropertiesWritten, mutateMillis, nodeCount, createMillis, computeMillis;\n",
    "\"\"\"\n",
    "\n",
    "with driver.session(database=\"neo4j\") as session:\n",
    "    display(session.run(query).consume().counters)"
   ]
  },
  {
   "cell_type": "markdown",
   "metadata": {},
   "source": [
    "There is also a version of the FastRP algorithm that takes node properties into account. We can compute a FastRP embedding that uses the pagerank and triangles scores for each author and store the results as a node property in the in-memory graph, by running the following query:"
   ]
  },
  {
   "cell_type": "code",
   "execution_count": 43,
   "metadata": {},
   "outputs": [
    {
     "data": {
      "text/plain": [
       "{}"
      ]
     },
     "metadata": {},
     "output_type": "display_data"
    }
   ],
   "source": [
    "query = \"\"\"\n",
    "CALL gds.beta.fastRPExtended.mutate('linkpred', {\n",
    "  propertyDimension: 45,\n",
    "  embeddingDimension: 250,\n",
    "  featureProperties: [\"pagerank\", \"triangles\"],\n",
    "  relationshipTypes: [\"CO_AUTHOR_REMAINING\"],\n",
    "  iterationWeights: [0, 0, 1.0, 1.0],\n",
    "  normalizationStrength:0.05,\n",
    "  mutateProperty: 'fastRP_Embedding_Extended'\n",
    "})\n",
    "YIELD nodePropertiesWritten, mutateMillis, nodeCount, createMillis, computeMillis;\n",
    "\"\"\"\n",
    "\n",
    "with driver.session(database=\"neo4j\") as session:\n",
    "    display(session.run(query).consume().counters)"
   ]
  },
  {
   "cell_type": "markdown",
   "metadata": {},
   "source": [
    "### Model Training and Evaluation\n",
    "\n",
    "Now let’s build a model based on these features. The link prediction procedure trains a logistic regression model and evaluates it using the AUCPR metric.\n",
    "\n",
    "We’ll train out first model using only the fastRP_Embedding property. We can do this by running the query below:\n"
   ]
  },
  {
   "cell_type": "code",
   "execution_count": 44,
   "metadata": {},
   "outputs": [
    {
     "data": {
      "text/plain": [
       "{}"
      ]
     },
     "metadata": {},
     "output_type": "display_data"
    }
   ],
   "source": [
    "query = \"\"\"\n",
    "CALL gds.alpha.ml.linkPrediction.train('linkpred', {\n",
    "  trainRelationshipType: 'CO_AUTHOR_TRAINGRAPH',\n",
    "  testRelationshipType: 'CO_AUTHOR_TESTGRAPH',\n",
    "  modelName: 'model-only-embedding',\n",
    "  featureProperties: ['fastRP_Embedding'],\n",
    "  validationFolds: 5,\n",
    "  classRatio: 1.0,\n",
    "  randomSeed: 2,\n",
    "  params: [\n",
    "    {penalty: 0.25, maxIterations: 1000},\n",
    "    {penalty: 0.5, maxIterations: 1000},\n",
    "    {penalty: 1.0, maxIterations: 1000},\n",
    "    {penalty: 0.0, maxIterations: 1000}\n",
    "  ]\n",
    "})\n",
    "YIELD trainMillis, modelInfo\n",
    "RETURN trainMillis,\n",
    "       modelInfo.bestParameters AS winningModel,\n",
    "       modelInfo.metrics.AUCPR.outerTrain AS trainGraphScore,\n",
    "       modelInfo.metrics.AUCPR.test AS testGraphScore;\n",
    "\"\"\"\n",
    "\n",
    "with driver.session(database=\"neo4j\") as session:\n",
    "    display(session.run(query).consume().counters)"
   ]
  },
  {
   "cell_type": "code",
   "execution_count": null,
   "metadata": {},
   "outputs": [],
   "source": []
  }
 ],
 "metadata": {
  "jupytext": {
   "encoding": "# -*- coding: utf-8 -*-",
   "formats": "py:light,ipynb"
  },
  "kernelspec": {
   "display_name": "Python 3",
   "language": "python",
   "name": "python3"
  },
  "language_info": {
   "codemirror_mode": {
    "name": "ipython",
    "version": 3
   },
   "file_extension": ".py",
   "mimetype": "text/x-python",
   "name": "python",
   "nbconvert_exporter": "python",
   "pygments_lexer": "ipython3",
   "version": "3.8.8"
  }
 },
 "nbformat": 4,
 "nbformat_minor": 4
}
