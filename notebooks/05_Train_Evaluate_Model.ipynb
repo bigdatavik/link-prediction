{
 "cells": [
  {
   "cell_type": "markdown",
   "metadata": {},
   "source": [
    "# Training the machine learning model\n",
    "\n",
    "In this notebook we're going to create a machine learning model and train it against the features that we engineered in the previous notebook.\n",
    "\n",
    "We’ll be using a random forest classifier. This method is well suited as our data set will be comprised of a mix of strong and weak features. While the weak features will sometimes be helpful, the random forest method will ensure we don’t create a model that only fits our training data."
   ]
  },
  {
   "cell_type": "code",
   "execution_count": 1,
   "metadata": {},
   "outputs": [],
   "source": [
    "import pandas as pd\n",
    "import matplotlib\n",
    "import matplotlib.pyplot as plt\n",
    "\n",
    "plt.style.use('fivethirtyeight')\n",
    "pd.set_option('display.float_format', lambda x: '%.3f' % x)\n",
    "\n",
    "# tag::imports[]\n",
    "from sklearn.ensemble import RandomForestClassifier\n",
    "# end::imports[]"
   ]
  },
  {
   "cell_type": "markdown",
   "metadata": {},
   "source": [
    "Let's first load the features that we engineered in the previous notebook:"
   ]
  },
  {
   "cell_type": "code",
   "execution_count": 2,
   "metadata": {},
   "outputs": [],
   "source": [
    "# Load the CSV files saved in the train/test notebook\n",
    "\n",
    "df_train_under = pd.read_csv(\"data/df_train_under_all.csv\")\n",
    "df_test_under = pd.read_csv(\"data/df_test_under_all.csv\")"
   ]
  },
  {
   "cell_type": "code",
   "execution_count": 5,
   "metadata": {},
   "outputs": [
    {
     "data": {
      "text/html": [
       "<div>\n",
       "<style scoped>\n",
       "    .dataframe tbody tr th:only-of-type {\n",
       "        vertical-align: middle;\n",
       "    }\n",
       "\n",
       "    .dataframe tbody tr th {\n",
       "        vertical-align: top;\n",
       "    }\n",
       "\n",
       "    .dataframe thead th {\n",
       "        text-align: right;\n",
       "    }\n",
       "</style>\n",
       "<table border=\"1\" class=\"dataframe\">\n",
       "  <thead>\n",
       "    <tr style=\"text-align: right;\">\n",
       "      <th></th>\n",
       "      <th>cn</th>\n",
       "      <th>maxCoefficient</th>\n",
       "      <th>maxTriangles</th>\n",
       "      <th>minCoefficient</th>\n",
       "      <th>minTriangles</th>\n",
       "      <th>node1</th>\n",
       "      <th>node2</th>\n",
       "      <th>pa</th>\n",
       "      <th>sl</th>\n",
       "      <th>sp</th>\n",
       "      <th>tn</th>\n",
       "      <th>label</th>\n",
       "    </tr>\n",
       "  </thead>\n",
       "  <tbody>\n",
       "    <tr>\n",
       "      <th>91068</th>\n",
       "      <td>14.000</td>\n",
       "      <td>1.000</td>\n",
       "      <td>105</td>\n",
       "      <td>1.000</td>\n",
       "      <td>105</td>\n",
       "      <td>35478</td>\n",
       "      <td>35488</td>\n",
       "      <td>225.000</td>\n",
       "      <td>1.000</td>\n",
       "      <td>1.000</td>\n",
       "      <td>16.000</td>\n",
       "      <td>1</td>\n",
       "    </tr>\n",
       "    <tr>\n",
       "      <th>12719</th>\n",
       "      <td>0.000</td>\n",
       "      <td>0.462</td>\n",
       "      <td>42</td>\n",
       "      <td>0.309</td>\n",
       "      <td>17</td>\n",
       "      <td>156289</td>\n",
       "      <td>156697</td>\n",
       "      <td>154.000</td>\n",
       "      <td>0.000</td>\n",
       "      <td>0.000</td>\n",
       "      <td>25.000</td>\n",
       "      <td>0</td>\n",
       "    </tr>\n",
       "    <tr>\n",
       "      <th>18901</th>\n",
       "      <td>0.000</td>\n",
       "      <td>0.833</td>\n",
       "      <td>6</td>\n",
       "      <td>0.400</td>\n",
       "      <td>5</td>\n",
       "      <td>71703</td>\n",
       "      <td>242410</td>\n",
       "      <td>24.000</td>\n",
       "      <td>0.000</td>\n",
       "      <td>1.000</td>\n",
       "      <td>10.000</td>\n",
       "      <td>0</td>\n",
       "    </tr>\n",
       "    <tr>\n",
       "      <th>69066</th>\n",
       "      <td>0.000</td>\n",
       "      <td>1.000</td>\n",
       "      <td>18</td>\n",
       "      <td>0.105</td>\n",
       "      <td>10</td>\n",
       "      <td>28646</td>\n",
       "      <td>214195</td>\n",
       "      <td>95.000</td>\n",
       "      <td>0.000</td>\n",
       "      <td>0.000</td>\n",
       "      <td>24.000</td>\n",
       "      <td>0</td>\n",
       "    </tr>\n",
       "    <tr>\n",
       "      <th>91996</th>\n",
       "      <td>2.000</td>\n",
       "      <td>1.000</td>\n",
       "      <td>3</td>\n",
       "      <td>1.000</td>\n",
       "      <td>3</td>\n",
       "      <td>36192</td>\n",
       "      <td>36193</td>\n",
       "      <td>9.000</td>\n",
       "      <td>1.000</td>\n",
       "      <td>1.000</td>\n",
       "      <td>4.000</td>\n",
       "      <td>1</td>\n",
       "    </tr>\n",
       "  </tbody>\n",
       "</table>\n",
       "</div>"
      ],
      "text/plain": [
       "          cn  maxCoefficient  maxTriangles  minCoefficient  minTriangles  \\\n",
       "91068 14.000           1.000           105           1.000           105   \n",
       "12719  0.000           0.462            42           0.309            17   \n",
       "18901  0.000           0.833             6           0.400             5   \n",
       "69066  0.000           1.000            18           0.105            10   \n",
       "91996  2.000           1.000             3           1.000             3   \n",
       "\n",
       "        node1   node2      pa    sl    sp     tn  label  \n",
       "91068   35478   35488 225.000 1.000 1.000 16.000      1  \n",
       "12719  156289  156697 154.000 0.000 0.000 25.000      0  \n",
       "18901   71703  242410  24.000 0.000 1.000 10.000      0  \n",
       "69066   28646  214195  95.000 0.000 0.000 24.000      0  \n",
       "91996   36192   36193   9.000 1.000 1.000  4.000      1  "
      ]
     },
     "execution_count": 5,
     "metadata": {},
     "output_type": "execute_result"
    }
   ],
   "source": [
    "df_train_under.sample(5)"
   ]
  },
  {
   "cell_type": "code",
   "execution_count": 6,
   "metadata": {},
   "outputs": [
    {
     "data": {
      "text/html": [
       "<div>\n",
       "<style scoped>\n",
       "    .dataframe tbody tr th:only-of-type {\n",
       "        vertical-align: middle;\n",
       "    }\n",
       "\n",
       "    .dataframe tbody tr th {\n",
       "        vertical-align: top;\n",
       "    }\n",
       "\n",
       "    .dataframe thead th {\n",
       "        text-align: right;\n",
       "    }\n",
       "</style>\n",
       "<table border=\"1\" class=\"dataframe\">\n",
       "  <thead>\n",
       "    <tr style=\"text-align: right;\">\n",
       "      <th></th>\n",
       "      <th>cn</th>\n",
       "      <th>maxCoefficient</th>\n",
       "      <th>maxTriangles</th>\n",
       "      <th>minCoefficient</th>\n",
       "      <th>minTriangles</th>\n",
       "      <th>node1</th>\n",
       "      <th>node2</th>\n",
       "      <th>pa</th>\n",
       "      <th>sl</th>\n",
       "      <th>sp</th>\n",
       "      <th>tn</th>\n",
       "      <th>label</th>\n",
       "    </tr>\n",
       "  </thead>\n",
       "  <tbody>\n",
       "    <tr>\n",
       "      <th>90138</th>\n",
       "      <td>5.000</td>\n",
       "      <td>1.000</td>\n",
       "      <td>15</td>\n",
       "      <td>1.000</td>\n",
       "      <td>15</td>\n",
       "      <td>107171</td>\n",
       "      <td>107173</td>\n",
       "      <td>36.000</td>\n",
       "      <td>1.000</td>\n",
       "      <td>1.000</td>\n",
       "      <td>7.000</td>\n",
       "      <td>1</td>\n",
       "    </tr>\n",
       "    <tr>\n",
       "      <th>128932</th>\n",
       "      <td>1.000</td>\n",
       "      <td>1.000</td>\n",
       "      <td>4</td>\n",
       "      <td>0.267</td>\n",
       "      <td>1</td>\n",
       "      <td>113249</td>\n",
       "      <td>231845</td>\n",
       "      <td>32.000</td>\n",
       "      <td>1.000</td>\n",
       "      <td>1.000</td>\n",
       "      <td>17.000</td>\n",
       "      <td>1</td>\n",
       "    </tr>\n",
       "    <tr>\n",
       "      <th>123545</th>\n",
       "      <td>1.000</td>\n",
       "      <td>0.667</td>\n",
       "      <td>10</td>\n",
       "      <td>0.000</td>\n",
       "      <td>0</td>\n",
       "      <td>83693</td>\n",
       "      <td>217940</td>\n",
       "      <td>36.000</td>\n",
       "      <td>0.000</td>\n",
       "      <td>1.000</td>\n",
       "      <td>14.000</td>\n",
       "      <td>1</td>\n",
       "    </tr>\n",
       "    <tr>\n",
       "      <th>74703</th>\n",
       "      <td>3.000</td>\n",
       "      <td>1.000</td>\n",
       "      <td>14</td>\n",
       "      <td>0.133</td>\n",
       "      <td>3</td>\n",
       "      <td>1849</td>\n",
       "      <td>1851</td>\n",
       "      <td>323.000</td>\n",
       "      <td>0.000</td>\n",
       "      <td>1.000</td>\n",
       "      <td>33.000</td>\n",
       "      <td>1</td>\n",
       "    </tr>\n",
       "    <tr>\n",
       "      <th>116934</th>\n",
       "      <td>2.000</td>\n",
       "      <td>0.547</td>\n",
       "      <td>238</td>\n",
       "      <td>0.400</td>\n",
       "      <td>4</td>\n",
       "      <td>97038</td>\n",
       "      <td>196093</td>\n",
       "      <td>200.000</td>\n",
       "      <td>0.000</td>\n",
       "      <td>1.000</td>\n",
       "      <td>43.000</td>\n",
       "      <td>1</td>\n",
       "    </tr>\n",
       "  </tbody>\n",
       "</table>\n",
       "</div>"
      ],
      "text/plain": [
       "          cn  maxCoefficient  maxTriangles  minCoefficient  minTriangles  \\\n",
       "90138  5.000           1.000            15           1.000            15   \n",
       "128932 1.000           1.000             4           0.267             1   \n",
       "123545 1.000           0.667            10           0.000             0   \n",
       "74703  3.000           1.000            14           0.133             3   \n",
       "116934 2.000           0.547           238           0.400             4   \n",
       "\n",
       "         node1   node2      pa    sl    sp     tn  label  \n",
       "90138   107171  107173  36.000 1.000 1.000  7.000      1  \n",
       "128932  113249  231845  32.000 1.000 1.000 17.000      1  \n",
       "123545   83693  217940  36.000 0.000 1.000 14.000      1  \n",
       "74703     1849    1851 323.000 0.000 1.000 33.000      1  \n",
       "116934   97038  196093 200.000 0.000 1.000 43.000      1  "
      ]
     },
     "execution_count": 6,
     "metadata": {},
     "output_type": "execute_result"
    }
   ],
   "source": [
    "df_test_under.sample(5)"
   ]
  },
  {
   "cell_type": "markdown",
   "metadata": {},
   "source": [
    "## Model Selection\n",
    "\n",
    "\n",
    "Now that we’ve generated all our features, it’s time to create our classifier. We’re going to create a random forest.\n",
    "\n",
    "This method is well suited as our data set will be comprised of a mix of strong and weak features. While the weak features will sometimes be helpful, the random forest method will ensure we don’t create a model that over fits our training data.\n",
    "\n",
    "We can create our random forest classifier with the following code:"
   ]
  },
  {
   "cell_type": "code",
   "execution_count": 7,
   "metadata": {},
   "outputs": [],
   "source": [
    "# tag::create-classifier[]\n",
    "classifier = RandomForestClassifier(n_estimators=30, max_depth=10, random_state=0)\n",
    "# end::create-classifier[]"
   ]
  },
  {
   "cell_type": "markdown",
   "metadata": {},
   "source": [
    "And now let's train the model:"
   ]
  },
  {
   "cell_type": "code",
   "execution_count": 8,
   "metadata": {},
   "outputs": [
    {
     "data": {
      "text/plain": [
       "RandomForestClassifier(max_depth=10, n_estimators=30, random_state=0)"
      ]
     },
     "execution_count": 8,
     "metadata": {},
     "output_type": "execute_result"
    }
   ],
   "source": [
    "# tag::train-model[]\n",
    "columns = [\n",
    "    \"cn\", \"pa\", \"tn\", # graph features\n",
    "    \"minTriangles\", \"maxTriangles\", \"minCoefficient\", \"maxCoefficient\", # triangle features  \n",
    "    \"sp\", \"sl\" # community features\n",
    "]\n",
    "\n",
    "X = df_train_under[columns]\n",
    "y = df_train_under[\"label\"]\n",
    "classifier.fit(X, y)\n",
    "# end::train-model[]"
   ]
  },
  {
   "cell_type": "markdown",
   "metadata": {},
   "source": [
    "## Model Evaluation\n",
    "We’re going to evaluate the quality of our model by computing its accuracy, precision, and recall. The diagram below, taken from the O’Reilly Graph Algorithms Book, explains how each of these metrics are computed.\n",
    "\n",
    "<img src=\"https://neo4j.com/developer/graph-data-science/_images/model-evaluation.png\" width=\"800\" height=\"400\">\n",
    "\n",
    "\n",
    "\n",
    "Next we're going to evaluate our model and see which features are the most influential. The following two functions will help us do this:"
   ]
  },
  {
   "cell_type": "code",
   "execution_count": 9,
   "metadata": {},
   "outputs": [],
   "source": [
    "# tag::evaluation-imports[]\n",
    "from sklearn.metrics import recall_score\n",
    "from sklearn.metrics import precision_score\n",
    "from sklearn.metrics import accuracy_score\n",
    "# end::evaluation-imports[]\n",
    "\n",
    "# tag::evaluation-functions[]\n",
    "def evaluate_model(predictions, actual):\n",
    "    return pd.DataFrame({\n",
    "        \"Measure\": [\"Accuracy\", \"Precision\", \"Recall\"],\n",
    "        \"Score\": [accuracy_score(actual, predictions), \n",
    "                  precision_score(actual, predictions), \n",
    "                  recall_score(actual, predictions)]\n",
    "    })\n",
    "# end::evaluation-functions[]\n",
    "\n",
    "def feature_importance(columns, classifier):        \n",
    "    display(\"Feature Importance\")\n",
    "    df = pd.DataFrame({\n",
    "        \"Feature\": columns,\n",
    "        \"Importance\": classifier.feature_importances_\n",
    "    })\n",
    "    df = df.sort_values(\"Importance\", ascending=False)    \n",
    "    ax = df.plot(kind='bar', x='Feature', y='Importance', legend=None)\n",
    "    ax.xaxis.set_label_text(\"\")\n",
    "    plt.tight_layout()\n",
    "    plt.show()"
   ]
  },
  {
   "cell_type": "markdown",
   "metadata": {},
   "source": [
    "Now let's see how well our model does against the test set:"
   ]
  },
  {
   "cell_type": "code",
   "execution_count": 10,
   "metadata": {},
   "outputs": [
    {
     "data": {
      "text/html": [
       "<div>\n",
       "<style scoped>\n",
       "    .dataframe tbody tr th:only-of-type {\n",
       "        vertical-align: middle;\n",
       "    }\n",
       "\n",
       "    .dataframe tbody tr th {\n",
       "        vertical-align: top;\n",
       "    }\n",
       "\n",
       "    .dataframe thead th {\n",
       "        text-align: right;\n",
       "    }\n",
       "</style>\n",
       "<table border=\"1\" class=\"dataframe\">\n",
       "  <thead>\n",
       "    <tr style=\"text-align: right;\">\n",
       "      <th></th>\n",
       "      <th>Measure</th>\n",
       "      <th>Score</th>\n",
       "    </tr>\n",
       "  </thead>\n",
       "  <tbody>\n",
       "    <tr>\n",
       "      <th>0</th>\n",
       "      <td>Accuracy</td>\n",
       "      <td>0.955</td>\n",
       "    </tr>\n",
       "    <tr>\n",
       "      <th>1</th>\n",
       "      <td>Precision</td>\n",
       "      <td>0.965</td>\n",
       "    </tr>\n",
       "    <tr>\n",
       "      <th>2</th>\n",
       "      <td>Recall</td>\n",
       "      <td>0.944</td>\n",
       "    </tr>\n",
       "  </tbody>\n",
       "</table>\n",
       "</div>"
      ],
      "text/plain": [
       "     Measure  Score\n",
       "0   Accuracy  0.955\n",
       "1  Precision  0.965\n",
       "2     Recall  0.944"
      ]
     },
     "execution_count": 10,
     "metadata": {},
     "output_type": "execute_result"
    }
   ],
   "source": [
    "# tag::test-model[]\n",
    "predictions = classifier.predict(df_test_under[columns])\n",
    "y_test = df_test_under[\"label\"]\n",
    "\n",
    "evaluate_model(predictions, y_test)\n",
    "# end::test-model[]"
   ]
  },
  {
   "cell_type": "code",
   "execution_count": 11,
   "metadata": {},
   "outputs": [],
   "source": [
    "evaluate_model(predictions, y_test).to_csv(\"data/model-eval.csv\", index=False)"
   ]
  },
  {
   "cell_type": "markdown",
   "metadata": {},
   "source": [
    "Our model has done pretty well at predicting whether there is likely to be a co-authorship between a pair of authors. It scores above 96% on all of the evaluation metrics.\n",
    "\n",
    "96% on all the metrics, not bad. And finally we can see which features are having the most influence:"
   ]
  },
  {
   "cell_type": "code",
   "execution_count": 12,
   "metadata": {},
   "outputs": [
    {
     "data": {
      "text/plain": [
       "'Feature Importance'"
      ]
     },
     "metadata": {},
     "output_type": "display_data"
    },
    {
     "data": {
      "image/png": "[encoded data removed]",
      "text/plain": [
       "<Figure size 432x288 with 1 Axes>"
      ]
     },
     "metadata": {},
     "output_type": "display_data"
    }
   ],
   "source": [
    "feature_importance(columns, classifier)"
   ]
  },
  {
   "cell_type": "code",
   "execution_count": null,
   "metadata": {},
   "outputs": [],
   "source": []
  }
 ],
 "metadata": {
  "jupytext": {
   "encoding": "# -*- coding: utf-8 -*-",
   "formats": "ipynb,py:light"
  },
  "kernelspec": {
   "display_name": "Python 3",
   "language": "python",
   "name": "python3"
  },
  "language_info": {
   "codemirror_mode": {
    "name": "ipython",
    "version": 3
   },
   "file_extension": ".py",
   "mimetype": "text/x-python",
   "name": "python",
   "nbconvert_exporter": "python",
   "pygments_lexer": "ipython3",
   "version": "3.8.8"
  }
 },
 "nbformat": 4,
 "nbformat_minor": 4
}
