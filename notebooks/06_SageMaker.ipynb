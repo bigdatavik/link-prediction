{
 "cells": [
  {
   "cell_type": "markdown",
   "metadata": {},
   "source": [
    "# Training a model with Amazon SageMaker Autopilot\n",
    "\n",
    "In this notebook we're going to learn how to train a model with Amazon's SageMaker Autopilot. Amazon SageMaker Autopilot is an automated machine learning (commonly referred to as AutoML) solution for tabular datasets. \n",
    "\n",
    "First let's install the sagemaker library:"
   ]
  },
  {
   "cell_type": "code",
   "execution_count": 1,
   "metadata": {},
   "outputs": [
    {
     "name": "stdout",
     "output_type": "stream",
     "text": [
      "Requirement already satisfied: sagemaker in /opt/conda/lib/python3.8/site-packages (2.4.1)\n",
      "Requirement already satisfied: boto3>=1.14.12 in /opt/conda/lib/python3.8/site-packages (from sagemaker) (1.14.47)\n",
      "Requirement already satisfied: importlib-metadata>=1.4.0 in /opt/conda/lib/python3.8/site-packages (from sagemaker) (1.7.0)\n",
      "Requirement already satisfied: protobuf3-to-dict>=0.1.5 in /opt/conda/lib/python3.8/site-packages (from sagemaker) (0.1.5)\n",
      "Requirement already satisfied: google-pasta in /opt/conda/lib/python3.8/site-packages (from sagemaker) (0.2.0)\n",
      "Requirement already satisfied: protobuf>=3.1 in /opt/conda/lib/python3.8/site-packages (from sagemaker) (3.12.3)\n",
      "Requirement already satisfied: packaging>=20.0 in /opt/conda/lib/python3.8/site-packages (from sagemaker) (20.4)\n",
      "Requirement already satisfied: numpy>=1.9.0 in /opt/conda/lib/python3.8/site-packages (from sagemaker) (1.19.1)\n",
      "Requirement already satisfied: smdebug-rulesconfig==0.1.5 in /opt/conda/lib/python3.8/site-packages (from sagemaker) (0.1.5)\n",
      "Requirement already satisfied: jmespath<1.0.0,>=0.7.1 in /opt/conda/lib/python3.8/site-packages (from boto3>=1.14.12->sagemaker) (0.10.0)\n",
      "Requirement already satisfied: s3transfer<0.4.0,>=0.3.0 in /opt/conda/lib/python3.8/site-packages (from boto3>=1.14.12->sagemaker) (0.3.3)\n",
      "Requirement already satisfied: botocore<1.18.0,>=1.17.47 in /opt/conda/lib/python3.8/site-packages (from boto3>=1.14.12->sagemaker) (1.17.47)\n",
      "Requirement already satisfied: zipp>=0.5 in /opt/conda/lib/python3.8/site-packages (from importlib-metadata>=1.4.0->sagemaker) (3.1.0)\n",
      "Requirement already satisfied: six in /opt/conda/lib/python3.8/site-packages (from protobuf3-to-dict>=0.1.5->sagemaker) (1.15.0)\n",
      "Requirement already satisfied: setuptools in /opt/conda/lib/python3.8/site-packages (from protobuf>=3.1->sagemaker) (49.2.0.post20200712)\n",
      "Requirement already satisfied: pyparsing>=2.0.2 in /opt/conda/lib/python3.8/site-packages (from packaging>=20.0->sagemaker) (2.4.7)\n",
      "Requirement already satisfied: python-dateutil<3.0.0,>=2.1 in /opt/conda/lib/python3.8/site-packages (from botocore<1.18.0,>=1.17.47->boto3>=1.14.12->sagemaker) (2.8.1)\n",
      "Requirement already satisfied: docutils<0.16,>=0.10 in /opt/conda/lib/python3.8/site-packages (from botocore<1.18.0,>=1.17.47->boto3>=1.14.12->sagemaker) (0.15.2)\n",
      "Requirement already satisfied: urllib3<1.26,>=1.20; python_version != \"3.4\" in /opt/conda/lib/python3.8/site-packages (from botocore<1.18.0,>=1.17.47->boto3>=1.14.12->sagemaker) (1.25.9)\n"
     ]
    }
   ],
   "source": [
    "# tag::pip-install-sagemaker[]\n",
    "!pip install sagemaker\n",
    "# end::pip-install-sagemaker[]"
   ]
  },
  {
   "cell_type": "code",
   "execution_count": 2,
   "metadata": {},
   "outputs": [],
   "source": [
    "import pandas as pd\n",
    "\n",
    "# tag::imports[]\n",
    "import sagemaker\n",
    "import boto3\n",
    "import os\n",
    "from time import gmtime, strftime, sleep\n",
    "# end::imports[]"
   ]
  },
  {
   "cell_type": "markdown",
   "metadata": {},
   "source": [
    "Let's first load the features that we engineered in the previous notebook:"
   ]
  },
  {
   "cell_type": "code",
   "execution_count": 3,
   "metadata": {},
   "outputs": [],
   "source": [
    "# Load the CSV files saved in the train/test notebook\n",
    "\n",
    "# tag::load-csv-files[]\n",
    "df_train_under = pd.read_csv(\"data/df_train_under_all.csv\")\n",
    "df_test_under = pd.read_csv(\"data/df_test_under_all.csv\")\n",
    "# end::load-csv-files[]"
   ]
  },
  {
   "cell_type": "code",
   "execution_count": 4,
   "metadata": {},
   "outputs": [
    {
     "data": {
      "text/html": [
       "<div>\n",
       "<style scoped>\n",
       "    .dataframe tbody tr th:only-of-type {\n",
       "        vertical-align: middle;\n",
       "    }\n",
       "\n",
       "    .dataframe tbody tr th {\n",
       "        vertical-align: top;\n",
       "    }\n",
       "\n",
       "    .dataframe thead th {\n",
       "        text-align: right;\n",
       "    }\n",
       "</style>\n",
       "<table border=\"1\" class=\"dataframe\">\n",
       "  <thead>\n",
       "    <tr style=\"text-align: right;\">\n",
       "      <th></th>\n",
       "      <th>cn</th>\n",
       "      <th>maxCoefficient</th>\n",
       "      <th>maxTriangles</th>\n",
       "      <th>minCoefficient</th>\n",
       "      <th>minTriangles</th>\n",
       "      <th>pa</th>\n",
       "      <th>sl</th>\n",
       "      <th>sp</th>\n",
       "      <th>tn</th>\n",
       "      <th>label</th>\n",
       "    </tr>\n",
       "  </thead>\n",
       "  <tbody>\n",
       "    <tr>\n",
       "      <th>116159</th>\n",
       "      <td>4.0</td>\n",
       "      <td>1.0</td>\n",
       "      <td>10</td>\n",
       "      <td>1.000000</td>\n",
       "      <td>10</td>\n",
       "      <td>25.0</td>\n",
       "      <td>1.0</td>\n",
       "      <td>1.0</td>\n",
       "      <td>6.0</td>\n",
       "      <td>1</td>\n",
       "    </tr>\n",
       "    <tr>\n",
       "      <th>107109</th>\n",
       "      <td>2.0</td>\n",
       "      <td>1.0</td>\n",
       "      <td>3</td>\n",
       "      <td>0.333333</td>\n",
       "      <td>2</td>\n",
       "      <td>12.0</td>\n",
       "      <td>1.0</td>\n",
       "      <td>1.0</td>\n",
       "      <td>5.0</td>\n",
       "      <td>1</td>\n",
       "    </tr>\n",
       "    <tr>\n",
       "      <th>82258</th>\n",
       "      <td>2.0</td>\n",
       "      <td>1.0</td>\n",
       "      <td>3</td>\n",
       "      <td>1.000000</td>\n",
       "      <td>3</td>\n",
       "      <td>9.0</td>\n",
       "      <td>1.0</td>\n",
       "      <td>1.0</td>\n",
       "      <td>4.0</td>\n",
       "      <td>1</td>\n",
       "    </tr>\n",
       "    <tr>\n",
       "      <th>79773</th>\n",
       "      <td>0.0</td>\n",
       "      <td>1.0</td>\n",
       "      <td>10</td>\n",
       "      <td>1.000000</td>\n",
       "      <td>3</td>\n",
       "      <td>15.0</td>\n",
       "      <td>0.0</td>\n",
       "      <td>1.0</td>\n",
       "      <td>8.0</td>\n",
       "      <td>0</td>\n",
       "    </tr>\n",
       "    <tr>\n",
       "      <th>42367</th>\n",
       "      <td>0.0</td>\n",
       "      <td>1.0</td>\n",
       "      <td>5</td>\n",
       "      <td>0.833333</td>\n",
       "      <td>1</td>\n",
       "      <td>8.0</td>\n",
       "      <td>0.0</td>\n",
       "      <td>1.0</td>\n",
       "      <td>6.0</td>\n",
       "      <td>0</td>\n",
       "    </tr>\n",
       "  </tbody>\n",
       "</table>\n",
       "</div>"
      ],
      "text/plain": [
       "         cn  maxCoefficient  maxTriangles  minCoefficient  minTriangles    pa  \\\n",
       "116159  4.0             1.0            10        1.000000            10  25.0   \n",
       "107109  2.0             1.0             3        0.333333             2  12.0   \n",
       "82258   2.0             1.0             3        1.000000             3   9.0   \n",
       "79773   0.0             1.0            10        1.000000             3  15.0   \n",
       "42367   0.0             1.0             5        0.833333             1   8.0   \n",
       "\n",
       "         sl   sp   tn  label  \n",
       "116159  1.0  1.0  6.0      1  \n",
       "107109  1.0  1.0  5.0      1  \n",
       "82258   1.0  1.0  4.0      1  \n",
       "79773   0.0  1.0  8.0      0  \n",
       "42367   0.0  1.0  6.0      0  "
      ]
     },
     "execution_count": 4,
     "metadata": {},
     "output_type": "execute_result"
    }
   ],
   "source": [
    "# tag::train-features[]\n",
    "df_train_under.drop(columns=[\"node1\", \"node2\"]).sample(5, random_state=42)\n",
    "# end::train-features[]"
   ]
  },
  {
   "cell_type": "code",
   "execution_count": 5,
   "metadata": {},
   "outputs": [
    {
     "data": {
      "text/html": [
       "<div>\n",
       "<style scoped>\n",
       "    .dataframe tbody tr th:only-of-type {\n",
       "        vertical-align: middle;\n",
       "    }\n",
       "\n",
       "    .dataframe tbody tr th {\n",
       "        vertical-align: top;\n",
       "    }\n",
       "\n",
       "    .dataframe thead th {\n",
       "        text-align: right;\n",
       "    }\n",
       "</style>\n",
       "<table border=\"1\" class=\"dataframe\">\n",
       "  <thead>\n",
       "    <tr style=\"text-align: right;\">\n",
       "      <th></th>\n",
       "      <th>cn</th>\n",
       "      <th>maxCoefficient</th>\n",
       "      <th>maxTriangles</th>\n",
       "      <th>minCoefficient</th>\n",
       "      <th>minTriangles</th>\n",
       "      <th>pa</th>\n",
       "      <th>sl</th>\n",
       "      <th>sp</th>\n",
       "      <th>tn</th>\n",
       "      <th>label</th>\n",
       "    </tr>\n",
       "  </thead>\n",
       "  <tbody>\n",
       "    <tr>\n",
       "      <th>35910</th>\n",
       "      <td>0.0</td>\n",
       "      <td>1.000000</td>\n",
       "      <td>28</td>\n",
       "      <td>0.866667</td>\n",
       "      <td>14</td>\n",
       "      <td>48.0</td>\n",
       "      <td>0.0</td>\n",
       "      <td>0.0</td>\n",
       "      <td>14.0</td>\n",
       "      <td>0</td>\n",
       "    </tr>\n",
       "    <tr>\n",
       "      <th>98339</th>\n",
       "      <td>3.0</td>\n",
       "      <td>0.068908</td>\n",
       "      <td>38</td>\n",
       "      <td>0.058480</td>\n",
       "      <td>8</td>\n",
       "      <td>665.0</td>\n",
       "      <td>0.0</td>\n",
       "      <td>0.0</td>\n",
       "      <td>51.0</td>\n",
       "      <td>1</td>\n",
       "    </tr>\n",
       "    <tr>\n",
       "      <th>147201</th>\n",
       "      <td>1.0</td>\n",
       "      <td>0.333333</td>\n",
       "      <td>1</td>\n",
       "      <td>0.000000</td>\n",
       "      <td>0</td>\n",
       "      <td>6.0</td>\n",
       "      <td>1.0</td>\n",
       "      <td>1.0</td>\n",
       "      <td>4.0</td>\n",
       "      <td>1</td>\n",
       "    </tr>\n",
       "    <tr>\n",
       "      <th>126570</th>\n",
       "      <td>4.0</td>\n",
       "      <td>0.377778</td>\n",
       "      <td>27</td>\n",
       "      <td>0.152047</td>\n",
       "      <td>18</td>\n",
       "      <td>190.0</td>\n",
       "      <td>0.0</td>\n",
       "      <td>0.0</td>\n",
       "      <td>25.0</td>\n",
       "      <td>1</td>\n",
       "    </tr>\n",
       "    <tr>\n",
       "      <th>124563</th>\n",
       "      <td>2.0</td>\n",
       "      <td>0.666667</td>\n",
       "      <td>2</td>\n",
       "      <td>0.300000</td>\n",
       "      <td>1</td>\n",
       "      <td>15.0</td>\n",
       "      <td>1.0</td>\n",
       "      <td>1.0</td>\n",
       "      <td>6.0</td>\n",
       "      <td>1</td>\n",
       "    </tr>\n",
       "  </tbody>\n",
       "</table>\n",
       "</div>"
      ],
      "text/plain": [
       "         cn  maxCoefficient  maxTriangles  minCoefficient  minTriangles  \\\n",
       "35910   0.0        1.000000            28        0.866667            14   \n",
       "98339   3.0        0.068908            38        0.058480             8   \n",
       "147201  1.0        0.333333             1        0.000000             0   \n",
       "126570  4.0        0.377778            27        0.152047            18   \n",
       "124563  2.0        0.666667             2        0.300000             1   \n",
       "\n",
       "           pa   sl   sp    tn  label  \n",
       "35910    48.0  0.0  0.0  14.0      0  \n",
       "98339   665.0  0.0  0.0  51.0      1  \n",
       "147201    6.0  1.0  1.0   4.0      1  \n",
       "126570  190.0  0.0  0.0  25.0      1  \n",
       "124563   15.0  1.0  1.0   6.0      1  "
      ]
     },
     "execution_count": 5,
     "metadata": {},
     "output_type": "execute_result"
    }
   ],
   "source": [
    "# tag::test-features[]\n",
    "df_test_under.drop(columns=[\"node1\", \"node2\"]).sample(5, random_state=42)\n",
    "# end::test-features[]"
   ]
  },
  {
   "cell_type": "code",
   "execution_count": 6,
   "metadata": {},
   "outputs": [
    {
     "name": "stdout",
     "output_type": "stream",
     "text": [
      "2020-09-22-10-53-59 sagemaker/link-prediction-developer-guide-2020-09-22-10-53-59\n"
     ]
    }
   ],
   "source": [
    "# tag::prerequisites[]\n",
    "boto_session = boto3.Session(\n",
    "    aws_access_key_id=os.environ[\"ACCESS_ID\"],\n",
    "    aws_secret_access_key= os.environ[\"ACCESS_KEY\"])\n",
    "\n",
    "region = boto_session.region_name\n",
    "\n",
    "session = sagemaker.Session(boto_session=boto_session)\n",
    "bucket = session.default_bucket()\n",
    "\n",
    "timestamp_suffix = strftime('%Y-%m-%d-%H-%M-%S', gmtime())\n",
    "# timestamp_suffix = \"2020-08-20-11-26-33\"\n",
    "\n",
    "prefix = 'sagemaker/link-prediction-developer-guide-' + timestamp_suffix\n",
    "\n",
    "role = os.environ[\"SAGEMAKER_ROLE\"]\n",
    "\n",
    "sm = boto_session.client(service_name='sagemaker',region_name=region)\n",
    "# end::prerequisites[]\n",
    "\n",
    "print(timestamp_suffix, prefix)"
   ]
  },
  {
   "cell_type": "markdown",
   "metadata": {},
   "source": [
    "## Upload the dataset to Amazon S3\n",
    "\n",
    "Copy the file to Amazon Simple Storage Service (Amazon S3) in a .csv format for Amazon SageMaker training to use."
   ]
  },
  {
   "cell_type": "code",
   "execution_count": 7,
   "metadata": {},
   "outputs": [
    {
     "name": "stdout",
     "output_type": "stream",
     "text": [
      "Train data uploaded to: s3://sagemaker-us-east-1-715633473519/sagemaker/link-prediction-developer-guide-2020-09-22-10-53-59/train/train_data_binary_classifier.csv\n",
      "Test data uploaded to: s3://sagemaker-us-east-1-715633473519/sagemaker/link-prediction-developer-guide-2020-09-22-10-53-59/test/test_data_binary_classifier.csv\n"
     ]
    }
   ],
   "source": [
    "# tag::upload-dataset-s3[]\n",
    "train_columns = [\n",
    "    \"cn\", \"pa\", \"tn\", \"minTriangles\", \"maxTriangles\", \"minCoefficient\", \"maxCoefficient\", \"sp\", \"sl\", \"label\"\n",
    "]\n",
    "df_train_under = df_train_under[train_columns]\n",
    "\n",
    "test_columns = [\n",
    "    \"cn\", \"pa\", \"tn\", \"minTriangles\", \"maxTriangles\", \"minCoefficient\", \"maxCoefficient\", \"sp\", \"sl\"\n",
    "]\n",
    "df_test_under = df_test_under.drop(columns=[\"label\"])[test_columns]\n",
    "\n",
    "train_file = 'data/upload/train_data_binary_classifier.csv';\n",
    "df_train_under.to_csv(train_file, index=False, header=True)\n",
    "train_data_s3_path = session.upload_data(path=train_file, key_prefix=prefix + \"/train\")\n",
    "print('Train data uploaded to: ' + train_data_s3_path)\n",
    "\n",
    "test_file = 'data/upload/test_data_binary_classifier.csv';\n",
    "df_test_under.to_csv(test_file, index=False, header=False)\n",
    "test_data_s3_path = session.upload_data(path=test_file, key_prefix=prefix + \"/test\")\n",
    "print('Test data uploaded to: ' + test_data_s3_path)\n",
    "# end::upload-dataset-s3[]"
   ]
  },
  {
   "cell_type": "markdown",
   "metadata": {},
   "source": [
    "## Setting up the SageMaker Autopilot Job\n",
    "\n",
    "Now that we've uploaded the dataset to S3, we're going to call Autopilot and have it find the best model for the dataset. Autopilot's required inputs are as follows:\n",
    "\n",
    "* Amazon S3 location for input dataset and for all output artifacts\n",
    "* Name of the column of the dataset you want to predict (`label` in this case) \n",
    "* An IAM role\n",
    "\n",
    "The training CSV file that we send to Autopilot should have a header row."
   ]
  },
  {
   "cell_type": "code",
   "execution_count": 8,
   "metadata": {},
   "outputs": [],
   "source": [
    "# tag::autopilot-setup[]\n",
    "input_data_config = [{\n",
    "      'DataSource': {\n",
    "        'S3DataSource': {\n",
    "          'S3DataType': 'S3Prefix',\n",
    "          'S3Uri': 's3://{}/{}/train'.format(bucket,prefix)\n",
    "        }\n",
    "      },\n",
    "      'TargetAttributeName': 'label'\n",
    "    }\n",
    "  ]\n",
    "\n",
    "automl_job_config = {\n",
    "    \"CompletionCriteria\": {\n",
    "        \"MaxRuntimePerTrainingJobInSeconds\": 300,\n",
    "        \"MaxCandidates\": 5,\n",
    "    }\n",
    "}\n",
    "\n",
    "output_data_config = {\n",
    "    'S3OutputPath': 's3://{}/{}/output'.format(bucket,prefix)\n",
    "  }\n",
    "# end::autopilot-setup[]"
   ]
  },
  {
   "cell_type": "markdown",
   "metadata": {},
   "source": [
    "## Launching the SageMaker Autopilot Job\n",
    "\n",
    "We can now launch the Autopilot job by calling the `create_auto_ml_job` API. "
   ]
  },
  {
   "cell_type": "code",
   "execution_count": 9,
   "metadata": {},
   "outputs": [
    {
     "name": "stdout",
     "output_type": "stream",
     "text": [
      "AutoMLJobName: automl-link-2020-09-22-10-53-59\n"
     ]
    },
    {
     "data": {
      "text/plain": [
       "{'AutoMLJobArn': 'arn:aws:sagemaker:us-east-1:715633473519:automl-job/automl-link-2020-09-22-10-53-59',\n",
       " 'ResponseMetadata': {'RequestId': 'e3c45bde-62b4-424f-bb2f-98479d7f4428',\n",
       "  'HTTPStatusCode': 200,\n",
       "  'HTTPHeaders': {'x-amzn-requestid': 'e3c45bde-62b4-424f-bb2f-98479d7f4428',\n",
       "   'content-type': 'application/x-amz-json-1.1',\n",
       "   'content-length': '102',\n",
       "   'date': 'Tue, 22 Sep 2020 10:57:03 GMT'},\n",
       "  'RetryAttempts': 0}}"
      ]
     },
     "execution_count": 9,
     "metadata": {},
     "output_type": "execute_result"
    }
   ],
   "source": [
    "# tag::autopilot-launch[]\n",
    "auto_ml_job_name = 'automl-link-' + timestamp_suffix\n",
    "print('AutoMLJobName: ' + auto_ml_job_name)\n",
    "\n",
    "sm.create_auto_ml_job(AutoMLJobName=auto_ml_job_name,\n",
    "                      InputDataConfig=input_data_config,\n",
    "                      OutputDataConfig=output_data_config,\n",
    "                      ProblemType=\"BinaryClassification\",\n",
    "                      AutoMLJobObjective={\"MetricName\": \"Accuracy\"},\n",
    "                      AutoMLJobConfig=automl_job_config,\n",
    "                      RoleArn=role)\n",
    "# end::autopilot-launch[]"
   ]
  },
  {
   "cell_type": "markdown",
   "metadata": {},
   "source": [
    "### Tracking SageMaker Autopilot job progress\n",
    "\n",
    "SageMaker Autopilot job consists of the following high-level steps : \n",
    "\n",
    "* Analyzing Data, where the dataset is analyzed and Autopilot comes up with a list of ML pipelines that should be tried out on the dataset. The dataset is also split into train and validation sets.\n",
    "* Feature Engineering, where Autopilot performs feature transformation on individual features of the dataset as well as at an aggregate level.\n",
    "* Model Tuning, where the top performing pipeline is selected along with the optimal hyperparameters for the training algorithm (the last stage of the pipeline). "
   ]
  },
  {
   "cell_type": "code",
   "execution_count": 10,
   "metadata": {},
   "outputs": [
    {
     "name": "stdout",
     "output_type": "stream",
     "text": [
      "JobStatus - Secondary Status\n",
      "------------------------------\n",
      "InProgress - AnalyzingData\n",
      "InProgress - AnalyzingData\n",
      "InProgress - AnalyzingData\n",
      "InProgress - AnalyzingData\n",
      "InProgress - AnalyzingData\n",
      "InProgress - AnalyzingData\n",
      "InProgress - AnalyzingData\n",
      "InProgress - AnalyzingData\n",
      "InProgress - AnalyzingData\n",
      "InProgress - AnalyzingData\n",
      "InProgress - AnalyzingData\n",
      "InProgress - AnalyzingData\n",
      "InProgress - AnalyzingData\n",
      "InProgress - AnalyzingData\n",
      "InProgress - AnalyzingData\n",
      "InProgress - AnalyzingData\n",
      "InProgress - AnalyzingData\n",
      "InProgress - AnalyzingData\n",
      "InProgress - AnalyzingData\n",
      "InProgress - FeatureEngineering\n",
      "InProgress - FeatureEngineering\n",
      "InProgress - FeatureEngineering\n",
      "InProgress - FeatureEngineering\n",
      "InProgress - FeatureEngineering\n",
      "InProgress - FeatureEngineering\n",
      "InProgress - FeatureEngineering\n",
      "InProgress - FeatureEngineering\n",
      "InProgress - FeatureEngineering\n",
      "InProgress - FeatureEngineering\n",
      "InProgress - FeatureEngineering\n",
      "InProgress - FeatureEngineering\n",
      "InProgress - FeatureEngineering\n",
      "InProgress - FeatureEngineering\n",
      "InProgress - FeatureEngineering\n",
      "InProgress - FeatureEngineering\n",
      "InProgress - FeatureEngineering\n",
      "InProgress - FeatureEngineering\n",
      "InProgress - FeatureEngineering\n",
      "InProgress - FeatureEngineering\n",
      "InProgress - FeatureEngineering\n",
      "InProgress - FeatureEngineering\n",
      "InProgress - FeatureEngineering\n",
      "InProgress - ModelTuning\n",
      "InProgress - ModelTuning\n",
      "InProgress - ModelTuning\n",
      "InProgress - ModelTuning\n",
      "InProgress - ModelTuning\n",
      "InProgress - ModelTuning\n",
      "InProgress - ModelTuning\n",
      "InProgress - ModelTuning\n",
      "InProgress - ModelTuning\n",
      "Completed - MaxCandidatesReached\n"
     ]
    }
   ],
   "source": [
    "print ('JobStatus - Secondary Status')\n",
    "print('------------------------------')\n",
    "\n",
    "# auto_ml_job_name = \"automl-link-2020-08-20-11-26-33\"\n",
    "\n",
    "# tag::autopilot-track-progress[]\n",
    "describe_response = sm.describe_auto_ml_job(AutoMLJobName=auto_ml_job_name)\n",
    "print (describe_response['AutoMLJobStatus'] + \" - \" + describe_response['AutoMLJobSecondaryStatus'])\n",
    "job_run_status = describe_response['AutoMLJobStatus']\n",
    "    \n",
    "while job_run_status not in ('Failed', 'Completed', 'Stopped'):\n",
    "    describe_response = sm.describe_auto_ml_job(AutoMLJobName=auto_ml_job_name)\n",
    "    job_run_status = describe_response['AutoMLJobStatus']\n",
    "    \n",
    "    print (describe_response['AutoMLJobStatus'] + \" - \" + describe_response['AutoMLJobSecondaryStatus'])\n",
    "    sleep(30)\n",
    "# end::autopilot-track-progress[]"
   ]
  },
  {
   "cell_type": "code",
   "execution_count": 11,
   "metadata": {},
   "outputs": [
    {
     "data": {
      "text/html": [
       "<div>\n",
       "<style scoped>\n",
       "    .dataframe tbody tr th:only-of-type {\n",
       "        vertical-align: middle;\n",
       "    }\n",
       "\n",
       "    .dataframe tbody tr th {\n",
       "        vertical-align: top;\n",
       "    }\n",
       "\n",
       "    .dataframe thead th {\n",
       "        text-align: right;\n",
       "    }\n",
       "</style>\n",
       "<table border=\"1\" class=\"dataframe\">\n",
       "  <thead>\n",
       "    <tr style=\"text-align: right;\">\n",
       "      <th></th>\n",
       "      <th>name</th>\n",
       "      <th>score</th>\n",
       "    </tr>\n",
       "  </thead>\n",
       "  <tbody>\n",
       "    <tr>\n",
       "      <th>0</th>\n",
       "      <td>tuning-job-1-4c1fbf19caa24e2992-005-1281d468</td>\n",
       "      <td>0.964120</td>\n",
       "    </tr>\n",
       "    <tr>\n",
       "      <th>1</th>\n",
       "      <td>tuning-job-1-4c1fbf19caa24e2992-003-4e9f7b9f</td>\n",
       "      <td>0.961340</td>\n",
       "    </tr>\n",
       "    <tr>\n",
       "      <th>2</th>\n",
       "      <td>tuning-job-1-4c1fbf19caa24e2992-002-0dbfe572</td>\n",
       "      <td>0.956560</td>\n",
       "    </tr>\n",
       "    <tr>\n",
       "      <th>3</th>\n",
       "      <td>tuning-job-1-4c1fbf19caa24e2992-001-70eae434</td>\n",
       "      <td>0.906070</td>\n",
       "    </tr>\n",
       "    <tr>\n",
       "      <th>4</th>\n",
       "      <td>tuning-job-1-4c1fbf19caa24e2992-004-dfa3c8ea</td>\n",
       "      <td>0.819107</td>\n",
       "    </tr>\n",
       "  </tbody>\n",
       "</table>\n",
       "</div>"
      ],
      "text/plain": [
       "                                           name     score\n",
       "0  tuning-job-1-4c1fbf19caa24e2992-005-1281d468  0.964120\n",
       "1  tuning-job-1-4c1fbf19caa24e2992-003-4e9f7b9f  0.961340\n",
       "2  tuning-job-1-4c1fbf19caa24e2992-002-0dbfe572  0.956560\n",
       "3  tuning-job-1-4c1fbf19caa24e2992-001-70eae434  0.906070\n",
       "4  tuning-job-1-4c1fbf19caa24e2992-004-dfa3c8ea  0.819107"
      ]
     },
     "metadata": {},
     "output_type": "display_data"
    }
   ],
   "source": [
    "# tag::autopilot-all-candidates[]\n",
    "candidates = sm.list_candidates_for_auto_ml_job(\n",
    "    AutoMLJobName=auto_ml_job_name, \n",
    "    SortBy='FinalObjectiveMetricValue')['Candidates']\n",
    "\n",
    "candidates_df = pd.DataFrame({\n",
    "    \"name\": [c[\"CandidateName\"] for c in candidates],\n",
    "    \"score\": [c[\"FinalAutoMLJobObjectiveMetric\"][\"Value\"] for c in candidates]\n",
    "})\n",
    "candidates_df\n",
    "# end::autopilot-all-candidates[]\n",
    "\n",
    "display(candidates_df)\n",
    "candidates_df.to_csv(\"data/download/autopilot_candidates.csv\", index=False, float_format='%g')"
   ]
  },
  {
   "cell_type": "code",
   "execution_count": 12,
   "metadata": {},
   "outputs": [
    {
     "data": {
      "text/html": [
       "<div>\n",
       "<style scoped>\n",
       "    .dataframe tbody tr th:only-of-type {\n",
       "        vertical-align: middle;\n",
       "    }\n",
       "\n",
       "    .dataframe tbody tr th {\n",
       "        vertical-align: top;\n",
       "    }\n",
       "\n",
       "    .dataframe thead th {\n",
       "        text-align: right;\n",
       "    }\n",
       "</style>\n",
       "<table border=\"1\" class=\"dataframe\">\n",
       "  <thead>\n",
       "    <tr style=\"text-align: right;\">\n",
       "      <th></th>\n",
       "      <th>name</th>\n",
       "      <th>metric</th>\n",
       "      <th>score</th>\n",
       "    </tr>\n",
       "  </thead>\n",
       "  <tbody>\n",
       "    <tr>\n",
       "      <th>0</th>\n",
       "      <td>tuning-job-1-4c1fbf19caa24e2992-005-1281d468</td>\n",
       "      <td>validation:accuracy</td>\n",
       "      <td>0.96412</td>\n",
       "    </tr>\n",
       "  </tbody>\n",
       "</table>\n",
       "</div>"
      ],
      "text/plain": [
       "                                           name               metric    score\n",
       "0  tuning-job-1-4c1fbf19caa24e2992-005-1281d468  validation:accuracy  0.96412"
      ]
     },
     "metadata": {},
     "output_type": "display_data"
    }
   ],
   "source": [
    "# tag::autopilot-best-candidate[]\n",
    "best_candidate = sm.describe_auto_ml_job(\n",
    "    AutoMLJobName=auto_ml_job_name)['BestCandidate']\n",
    "\n",
    "best_df = pd.DataFrame({\n",
    "    \"name\": [best_candidate['CandidateName']],\n",
    "    \"metric\": [best_candidate['FinalAutoMLJobObjectiveMetric']['MetricName']],\n",
    "    \"score\": [best_candidate['FinalAutoMLJobObjectiveMetric']['Value']]\n",
    "})\n",
    "best_df\n",
    "# end::autopilot-best-candidate[]\n",
    "\n",
    "display(best_df)\n",
    "best_df.to_csv(\"data/download/autopilot_best_candidate.csv\", index=False, float_format='%g')"
   ]
  },
  {
   "cell_type": "markdown",
   "metadata": {},
   "source": [
    "### Perform batch inference using the best candidate\n",
    "\n",
    "Now that we have successfully completed the SageMaker Autopilot job on the dataset, create a model from any of the candidates by using [Inference Pipelines](https://docs.aws.amazon.com/sagemaker/latest/dg/inference-pipelines.html). "
   ]
  },
  {
   "cell_type": "code",
   "execution_count": 13,
   "metadata": {},
   "outputs": [
    {
     "name": "stdout",
     "output_type": "stream",
     "text": [
      "Model ARN corresponding to the best candidate is : arn:aws:sagemaker:us-east-1:715633473519:model/automl-link-pred-model-2020-09-22-10-53-59\n"
     ]
    }
   ],
   "source": [
    "# timestamp_suffix = \"automl-link-2020-08-20-09-25-03\"\n",
    "\n",
    "# tag::autopilot-create-model[]\n",
    "model_name = 'automl-link-pred-model-' + timestamp_suffix\n",
    "\n",
    "model = sm.create_model(Containers=best_candidate['InferenceContainers'],\n",
    "                            ModelName=model_name,\n",
    "                            ExecutionRoleArn=role)\n",
    "\n",
    "print('Model ARN corresponding to the best candidate is : {}'.format(model['ModelArn']))\n",
    "# end::autopilot-create-model[]"
   ]
  },
  {
   "cell_type": "markdown",
   "metadata": {},
   "source": [
    "### Evaluating the model\n",
    "\n",
    "And now we're going to create a transform job based on this model.\n",
    "A transform job uses a trained model to get inferences on a dataset and saves these results to S3."
   ]
  },
  {
   "cell_type": "code",
   "execution_count": 14,
   "metadata": {},
   "outputs": [
    {
     "name": "stdout",
     "output_type": "stream",
     "text": [
      "s3://sagemaker-us-east-1-715633473519/sagemaker/link-prediction-developer-guide-2020-09-22-10-53-59/test/test_data_binary_classifier.csv automl-link-pred-transform-job-2020-09-22-10-53-59 automl-link-pred-model-2020-09-22-10-53-59\n"
     ]
    },
    {
     "data": {
      "text/plain": [
       "{'TransformJobArn': 'arn:aws:sagemaker:us-east-1:715633473519:transform-job/automl-link-pred-transform-job-2020-09-22-10-53-59',\n",
       " 'ResponseMetadata': {'RequestId': '7acb6c01-d3c2-430f-a258-ab0848bfbdf6',\n",
       "  'HTTPStatusCode': 200,\n",
       "  'HTTPHeaders': {'x-amzn-requestid': '7acb6c01-d3c2-430f-a258-ab0848bfbdf6',\n",
       "   'content-type': 'application/x-amz-json-1.1',\n",
       "   'content-length': '127',\n",
       "   'date': 'Tue, 22 Sep 2020 11:25:04 GMT'},\n",
       "  'RetryAttempts': 0}}"
      ]
     },
     "execution_count": 14,
     "metadata": {},
     "output_type": "execute_result"
    }
   ],
   "source": [
    "# test_data_s3_path = \"s3://sagemaker-us-east-1-715633473519/sagemaker/link-prediction-developer-guide-2020-08-20-11-26-33/train/train_data_copy.csv\"\n",
    "# timestamp_suffix = \"2020-08-20-11-26-33\"\n",
    "# timestamp_suffix = strftime('%Y-%m-%d-%H-%M-%S', gmtime())\n",
    "\n",
    "# tag::autopilot-create-transform-job[]\n",
    "transform_job_name = 'automl-link-pred-transform-job-' + timestamp_suffix\n",
    "\n",
    "print(test_data_s3_path, transform_job_name, model_name)\n",
    "\n",
    "transform_input = {\n",
    "        'DataSource': {\n",
    "            'S3DataSource': {\n",
    "                'S3DataType': 'S3Prefix',\n",
    "                'S3Uri': test_data_s3_path\n",
    "            }\n",
    "        },\n",
    "        'ContentType': 'text/csv',\n",
    "        'CompressionType': 'None',\n",
    "        'SplitType': 'Line'\n",
    "    }\n",
    "\n",
    "transform_output = {\n",
    "        'S3OutputPath': 's3://{}/{}/inference-results'.format(bucket,prefix),\n",
    "    }\n",
    "\n",
    "transform_resources = {\n",
    "        'InstanceType': 'ml.m5.4xlarge',\n",
    "        'InstanceCount': 1\n",
    "    }\n",
    "\n",
    "sm.create_transform_job(TransformJobName = transform_job_name,\n",
    "                        ModelName = model_name,\n",
    "                        TransformInput = transform_input,\n",
    "                        TransformOutput = transform_output,\n",
    "                        TransformResources = transform_resources\n",
    ")\n",
    "# end::autopilot-create-transform-job[]"
   ]
  },
  {
   "cell_type": "code",
   "execution_count": 15,
   "metadata": {},
   "outputs": [
    {
     "name": "stdout",
     "output_type": "stream",
     "text": [
      "JobStatus\n",
      "----------\n",
      "InProgress\n",
      "InProgress\n",
      "InProgress\n",
      "InProgress\n",
      "InProgress\n",
      "InProgress\n",
      "InProgress\n",
      "InProgress\n",
      "InProgress\n",
      "InProgress\n",
      "InProgress\n",
      "InProgress\n",
      "Completed\n",
      "{'TransformJobName': 'automl-link-pred-transform-job-2020-09-22-10-53-59', 'TransformJobArn': 'arn:aws:sagemaker:us-east-1:715633473519:transform-job/automl-link-pred-transform-job-2020-09-22-10-53-59', 'TransformJobStatus': 'Completed', 'ModelName': 'automl-link-pred-model-2020-09-22-10-53-59', 'TransformInput': {'DataSource': {'S3DataSource': {'S3DataType': 'S3Prefix', 'S3Uri': 's3://sagemaker-us-east-1-715633473519/sagemaker/link-prediction-developer-guide-2020-09-22-10-53-59/test/test_data_binary_classifier.csv'}}, 'ContentType': 'text/csv', 'CompressionType': 'None', 'SplitType': 'Line'}, 'TransformOutput': {'S3OutputPath': 's3://sagemaker-us-east-1-715633473519/sagemaker/link-prediction-developer-guide-2020-09-22-10-53-59/inference-results', 'AssembleWith': 'None', 'KmsKeyId': ''}, 'TransformResources': {'InstanceType': 'ml.m5.4xlarge', 'InstanceCount': 1}, 'CreationTime': datetime.datetime(2020, 9, 22, 11, 25, 4, 495000, tzinfo=tzlocal()), 'TransformStartTime': datetime.datetime(2020, 9, 22, 11, 28, 8, 320000, tzinfo=tzlocal()), 'TransformEndTime': datetime.datetime(2020, 9, 22, 11, 30, 16, 867000, tzinfo=tzlocal()), 'DataProcessing': {'InputFilter': '$', 'OutputFilter': '$', 'JoinSource': 'None'}, 'ResponseMetadata': {'RequestId': '15b88b47-af17-4ff6-ac13-2155fe9aff77', 'HTTPStatusCode': 200, 'HTTPHeaders': {'x-amzn-requestid': '15b88b47-af17-4ff6-ac13-2155fe9aff77', 'content-type': 'application/x-amz-json-1.1', 'content-length': '1024', 'date': 'Tue, 22 Sep 2020 11:30:42 GMT'}, 'RetryAttempts': 0}}\n"
     ]
    }
   ],
   "source": [
    "print ('JobStatus')\n",
    "print('----------')\n",
    "\n",
    "# tag::autopilot-track-transform-job[]\n",
    "describe_response = sm.describe_transform_job(TransformJobName = transform_job_name)\n",
    "job_run_status = describe_response['TransformJobStatus']\n",
    "print (job_run_status)\n",
    "\n",
    "while job_run_status not in ('Failed', 'Completed', 'Stopped'):\n",
    "    describe_response = sm.describe_transform_job(TransformJobName = transform_job_name)\n",
    "    job_run_status = describe_response['TransformJobStatus']\n",
    "    print (job_run_status)\n",
    "    sleep(30)\n",
    "# end::autopilot-track-transform-job[]    \n",
    "\n",
    "print(describe_response)"
   ]
  },
  {
   "cell_type": "markdown",
   "metadata": {},
   "source": [
    "Now let's view the results of the transform job:"
   ]
  },
  {
   "cell_type": "code",
   "execution_count": 16,
   "metadata": {},
   "outputs": [
    {
     "data": {
      "text/html": [
       "<div>\n",
       "<style scoped>\n",
       "    .dataframe tbody tr th:only-of-type {\n",
       "        vertical-align: middle;\n",
       "    }\n",
       "\n",
       "    .dataframe tbody tr th {\n",
       "        vertical-align: top;\n",
       "    }\n",
       "\n",
       "    .dataframe thead th {\n",
       "        text-align: right;\n",
       "    }\n",
       "</style>\n",
       "<table border=\"1\" class=\"dataframe\">\n",
       "  <thead>\n",
       "    <tr style=\"text-align: right;\">\n",
       "      <th></th>\n",
       "      <th>0</th>\n",
       "    </tr>\n",
       "  </thead>\n",
       "  <tbody>\n",
       "    <tr>\n",
       "      <th>35910</th>\n",
       "      <td>0</td>\n",
       "    </tr>\n",
       "    <tr>\n",
       "      <th>98339</th>\n",
       "      <td>1</td>\n",
       "    </tr>\n",
       "    <tr>\n",
       "      <th>147201</th>\n",
       "      <td>1</td>\n",
       "    </tr>\n",
       "    <tr>\n",
       "      <th>126570</th>\n",
       "      <td>1</td>\n",
       "    </tr>\n",
       "    <tr>\n",
       "      <th>124563</th>\n",
       "      <td>1</td>\n",
       "    </tr>\n",
       "    <tr>\n",
       "      <th>12074</th>\n",
       "      <td>0</td>\n",
       "    </tr>\n",
       "    <tr>\n",
       "      <th>52357</th>\n",
       "      <td>0</td>\n",
       "    </tr>\n",
       "    <tr>\n",
       "      <th>93365</th>\n",
       "      <td>1</td>\n",
       "    </tr>\n",
       "    <tr>\n",
       "      <th>106125</th>\n",
       "      <td>1</td>\n",
       "    </tr>\n",
       "    <tr>\n",
       "      <th>58767</th>\n",
       "      <td>0</td>\n",
       "    </tr>\n",
       "  </tbody>\n",
       "</table>\n",
       "</div>"
      ],
      "text/plain": [
       "        0\n",
       "35910   0\n",
       "98339   1\n",
       "147201  1\n",
       "126570  1\n",
       "124563  1\n",
       "12074   0\n",
       "52357   0\n",
       "93365   1\n",
       "106125  1\n",
       "58767   0"
      ]
     },
     "execution_count": 16,
     "metadata": {},
     "output_type": "execute_result"
    }
   ],
   "source": [
    "# tag::autopilot-transform-job-results[]\n",
    "s3_output_key = '{}/inference-results/test_data_binary_classifier.csv.out'.format(prefix);\n",
    "local_inference_results_path = 'data/download/inference_results.csv'\n",
    "\n",
    "inference_results_bucket = boto_session.resource(\"s3\").Bucket(session.default_bucket())\n",
    "inference_results_bucket.download_file(s3_output_key, local_inference_results_path);\n",
    "\n",
    "data = pd.read_csv(local_inference_results_path, sep=';', header=None)\n",
    "data.sample(10, random_state=42)\n",
    "# end::autopilot-transform-job-results[]"
   ]
  },
  {
   "cell_type": "code",
   "execution_count": 17,
   "metadata": {},
   "outputs": [],
   "source": [
    "# tag::evaluation-imports[]\n",
    "from sklearn.metrics import recall_score\n",
    "from sklearn.metrics import precision_score\n",
    "from sklearn.metrics import accuracy_score\n",
    "# end::evaluation-imports[]\n",
    "\n",
    "# tag::evaluation-functions[]\n",
    "def evaluate_model(predictions, actual):\n",
    "    return pd.DataFrame({\n",
    "        \"Measure\": [\"Accuracy\", \"Precision\", \"Recall\"],\n",
    "        \"Score\": [accuracy_score(actual, predictions), \n",
    "                  precision_score(actual, predictions), \n",
    "                  recall_score(actual, predictions)]\n",
    "    })\n",
    "# end::evaluation-functions[]\n",
    "\n",
    "def feature_importance(columns, classifier):        \n",
    "    display(\"Feature Importance\")\n",
    "    df = pd.DataFrame({\n",
    "        \"Feature\": columns,\n",
    "        \"Importance\": classifier.feature_importances_\n",
    "    })\n",
    "    df = df.sort_values(\"Importance\", ascending=False)    \n",
    "    ax = df.plot(kind='bar', x='Feature', y='Importance', legend=None)\n",
    "    ax.xaxis.set_label_text(\"\")\n",
    "    plt.tight_layout()\n",
    "    plt.show()"
   ]
  },
  {
   "cell_type": "code",
   "execution_count": 18,
   "metadata": {},
   "outputs": [
    {
     "data": {
      "text/html": [
       "<div>\n",
       "<style scoped>\n",
       "    .dataframe tbody tr th:only-of-type {\n",
       "        vertical-align: middle;\n",
       "    }\n",
       "\n",
       "    .dataframe tbody tr th {\n",
       "        vertical-align: top;\n",
       "    }\n",
       "\n",
       "    .dataframe thead th {\n",
       "        text-align: right;\n",
       "    }\n",
       "</style>\n",
       "<table border=\"1\" class=\"dataframe\">\n",
       "  <thead>\n",
       "    <tr style=\"text-align: right;\">\n",
       "      <th></th>\n",
       "      <th>Measure</th>\n",
       "      <th>Score</th>\n",
       "    </tr>\n",
       "  </thead>\n",
       "  <tbody>\n",
       "    <tr>\n",
       "      <th>0</th>\n",
       "      <td>Accuracy</td>\n",
       "      <td>0.964818</td>\n",
       "    </tr>\n",
       "    <tr>\n",
       "      <th>1</th>\n",
       "      <td>Precision</td>\n",
       "      <td>0.964399</td>\n",
       "    </tr>\n",
       "    <tr>\n",
       "      <th>2</th>\n",
       "      <td>Recall</td>\n",
       "      <td>0.965207</td>\n",
       "    </tr>\n",
       "  </tbody>\n",
       "</table>\n",
       "</div>"
      ],
      "text/plain": [
       "     Measure     Score\n",
       "0   Accuracy  0.964818\n",
       "1  Precision  0.964399\n",
       "2     Recall  0.965207"
      ]
     },
     "execution_count": 18,
     "metadata": {},
     "output_type": "execute_result"
    }
   ],
   "source": [
    "# tag::test-model[]\n",
    "df_test_under = pd.read_csv(\"data/df_test_under_all.csv\")\n",
    "\n",
    "predictions = data[0]\n",
    "y_test = df_test_under[\"label\"]\n",
    "\n",
    "evaluate_model(y_test, predictions)\n",
    "# end::test-model[]"
   ]
  },
  {
   "cell_type": "code",
   "execution_count": 19,
   "metadata": {},
   "outputs": [],
   "source": [
    "evaluate_model(y_test, predictions).to_csv(\"data/sagemaker-model-eval.csv\", index=False)"
   ]
  },
  {
   "cell_type": "code",
   "execution_count": 12,
   "metadata": {},
   "outputs": [
    {
     "data": {
      "text/plain": [
       "'Feature Importance'"
      ]
     },
     "metadata": {},
     "output_type": "display_data"
    },
    {
     "data": {
      "image/png": "[encoded data removed]",
      "text/plain": [
       "<Figure size 432x288 with 1 Axes>"
      ]
     },
     "metadata": {},
     "output_type": "display_data"
    }
   ],
   "source": [
    "feature_importance(columns, classifier)"
   ]
  }
 ],
 "metadata": {
  "jupytext": {
   "encoding": "# -*- coding: utf-8 -*-",
   "formats": "ipynb,py:light"
  },
  "kernelspec": {
   "display_name": "Python 3",
   "language": "python",
   "name": "python3"
  },
  "language_info": {
   "codemirror_mode": {
    "name": "ipython",
    "version": 3
   },
   "file_extension": ".py",
   "mimetype": "text/x-python",
   "name": "python",
   "nbconvert_exporter": "python",
   "pygments_lexer": "ipython3",
   "version": "3.8.4"
  }
 },
 "nbformat": 4,
 "nbformat_minor": 4
}
